{
  "cells": [
    {
      "cell_type": "code",
      "execution_count": 2,
      "metadata": {
        "colab": {
          "base_uri": "https://localhost:8080/"
        },
        "id": "GozRAKqVOGrf",
        "outputId": "6da87a91-b29d-42cf-b989-b853f08927c7"
      },
      "outputs": [
        {
          "output_type": "stream",
          "name": "stdout",
          "text": [
            "Mounted at /content/drive\n"
          ]
        }
      ],
      "source": [
        "from google.colab import drive\n",
        "drive.mount('/content/drive')"
      ]
    },
    {
      "cell_type": "code",
      "execution_count": 3,
      "metadata": {
        "colab": {
          "base_uri": "https://localhost:8080/"
        },
        "id": "jlisLoAeOR9S",
        "outputId": "d9c235ca-8859-4872-da17-aa7c79e1c698"
      },
      "outputs": [
        {
          "output_type": "stream",
          "name": "stdout",
          "text": [
            "/content/drive/MyDrive\n"
          ]
        }
      ],
      "source": [
        "%cd \"/content/drive/MyDrive\""
      ]
    },
    {
      "cell_type": "code",
      "execution_count": 4,
      "metadata": {
        "colab": {
          "base_uri": "https://localhost:8080/"
        },
        "id": "QjcCI1WZOp9W",
        "outputId": "2616668e-0eb3-4523-f49f-156b360d4025"
      },
      "outputs": [
        {
          "output_type": "stream",
          "name": "stdout",
          "text": [
            "'10th Mark sheet.jpg'\n",
            "'12th marksheet.pdf'\n",
            " Aadhar.pdf\n",
            "'Assignment for graymatics.zip'\n",
            " \u001b[0m\u001b[01;34mAssingnment\u001b[0m/\n",
            "\u001b[01;34m'Colab Notebooks'\u001b[0m/\n",
            "\u001b[01;34m'Custom objection lib'\u001b[0m/\n",
            " \u001b[01;34mdarknet\u001b[0m/\n",
            "'Digital_Certificate from RGPV .pdf'\n",
            " emertxe_internship_certificate_Raghav_Sharma.pdf\n",
            "'Enterprise Bot Assignment.zip'\n",
            " \u001b[01;34mFiles\u001b[0m/\n",
            "\u001b[01;34m'Google Photos'\u001b[0m/\n",
            "'image captioning.mkv'\n",
            " openinapp.zip\n",
            "'PAN card.jpg'\n",
            "'Raghav java progates.pdf'\n",
            "'Raghav Sharma cloud computing  certificate.pdf'\n",
            "'RAGHAV SHARMA.pdf'\n",
            "'resume photo-min.jpg'\n",
            " Surveillance_car_video.mp4\n",
            " \u001b[01;34mvgg16\u001b[0m/\n"
          ]
        }
      ],
      "source": [
        "%ls"
      ]
    },
    {
      "cell_type": "code",
      "execution_count": 5,
      "metadata": {
        "colab": {
          "base_uri": "https://localhost:8080/"
        },
        "id": "t0JCiFkuV4pX",
        "outputId": "4d2c5afb-83ca-45ea-d33e-b08d90b8be2a"
      },
      "outputs": [
        {
          "output_type": "stream",
          "name": "stdout",
          "text": [
            "/content/drive/MyDrive/vgg16\n"
          ]
        }
      ],
      "source": [
        "%cd vgg16/"
      ]
    },
    {
      "cell_type": "code",
      "execution_count": 6,
      "metadata": {
        "id": "Ba8q-P4dNzgO"
      },
      "outputs": [],
      "source": [
        "from tensorflow.keras.layers import Input, Flatten, Dense\n",
        "from tensorflow.keras.models import Model\n",
        "from tensorflow.keras.applications.vgg16 import VGG16\n",
        "from tensorflow.keras.applications.vgg16 import preprocess_input\n",
        "from tensorflow.keras.preprocessing.image import ImageDataGenerator\n",
        "from tensorflow.keras.callbacks import ModelCheckpoint\n",
        "from tensorflow import keras\n",
        "from matplotlib import pyplot as plt"
      ]
    },
    {
      "cell_type": "code",
      "execution_count": 7,
      "metadata": {
        "id": "lCNkwEU1Nzcz"
      },
      "outputs": [],
      "source": [
        "\n",
        "# Set image size\n",
        "IMAGE_SIZE = [180, 180]\n",
        "\n",
        "# Define paths for training and validation data\n",
        "train_path = '/content/drive/MyDrive/vgg16/dataset/train'   # Change with your train path\n",
        "valid_path = '/content/drive/MyDrive/vgg16/dataset/val'     # Change with your validation path"
      ]
    },
    {
      "cell_type": "code",
      "execution_count": 8,
      "metadata": {
        "id": "llBHPbcHNzZu",
        "colab": {
          "base_uri": "https://localhost:8080/"
        },
        "outputId": "4bbeab6f-dc60-48c6-e760-687d3f405e4e"
      },
      "outputs": [
        {
          "output_type": "stream",
          "name": "stdout",
          "text": [
            "Downloading data from https://storage.googleapis.com/tensorflow/keras-applications/vgg16/vgg16_weights_tf_dim_ordering_tf_kernels_notop.h5\n",
            "58889256/58889256 [==============================] - 0s 0us/step\n"
          ]
        }
      ],
      "source": [
        "# Load VGG16 model with pre-trained weights\n",
        "vgg16 = VGG16(input_shape=IMAGE_SIZE + [3], weights='imagenet', include_top=False)"
      ]
    },
    {
      "cell_type": "code",
      "execution_count": 9,
      "metadata": {
        "id": "76bnu_dqNzWj"
      },
      "outputs": [],
      "source": [
        "# Freeze the layers of VGG16\n",
        "for layer in vgg16.layers:\n",
        "    layer.trainable = False"
      ]
    },
    {
      "cell_type": "code",
      "execution_count": 10,
      "metadata": {
        "id": "mxXTxuixNzTT"
      },
      "outputs": [],
      "source": [
        "# Flatten the output of VGG16\n",
        "x = Flatten()(vgg16.output)"
      ]
    },
    {
      "cell_type": "code",
      "execution_count": 11,
      "metadata": {
        "id": "wzBbSEYsNzP2"
      },
      "outputs": [],
      "source": [
        "# Add a fully connected layer with softmax activation for 27 classes\n",
        "prediction = Dense(27, activation='softmax')(x)"
      ]
    },
    {
      "cell_type": "code",
      "execution_count": 12,
      "metadata": {
        "id": "SKxvoqQ_SvPI"
      },
      "outputs": [],
      "source": [
        "# Create a model object\n",
        "model = Model(inputs=vgg16.input, outputs=prediction)"
      ]
    },
    {
      "cell_type": "code",
      "execution_count": 13,
      "metadata": {
        "id": "EbATCPfySvI0",
        "colab": {
          "base_uri": "https://localhost:8080/"
        },
        "outputId": "7ed180fb-68c5-48d1-a368-9cbdea4511e4"
      },
      "outputs": [
        {
          "output_type": "stream",
          "name": "stdout",
          "text": [
            "Model: \"model\"\n",
            "_________________________________________________________________\n",
            " Layer (type)                Output Shape              Param #   \n",
            "=================================================================\n",
            " input_1 (InputLayer)        [(None, 180, 180, 3)]     0         \n",
            "                                                                 \n",
            " block1_conv1 (Conv2D)       (None, 180, 180, 64)      1792      \n",
            "                                                                 \n",
            " block1_conv2 (Conv2D)       (None, 180, 180, 64)      36928     \n",
            "                                                                 \n",
            " block1_pool (MaxPooling2D)  (None, 90, 90, 64)        0         \n",
            "                                                                 \n",
            " block2_conv1 (Conv2D)       (None, 90, 90, 128)       73856     \n",
            "                                                                 \n",
            " block2_conv2 (Conv2D)       (None, 90, 90, 128)       147584    \n",
            "                                                                 \n",
            " block2_pool (MaxPooling2D)  (None, 45, 45, 128)       0         \n",
            "                                                                 \n",
            " block3_conv1 (Conv2D)       (None, 45, 45, 256)       295168    \n",
            "                                                                 \n",
            " block3_conv2 (Conv2D)       (None, 45, 45, 256)       590080    \n",
            "                                                                 \n",
            " block3_conv3 (Conv2D)       (None, 45, 45, 256)       590080    \n",
            "                                                                 \n",
            " block3_pool (MaxPooling2D)  (None, 22, 22, 256)       0         \n",
            "                                                                 \n",
            " block4_conv1 (Conv2D)       (None, 22, 22, 512)       1180160   \n",
            "                                                                 \n",
            " block4_conv2 (Conv2D)       (None, 22, 22, 512)       2359808   \n",
            "                                                                 \n",
            " block4_conv3 (Conv2D)       (None, 22, 22, 512)       2359808   \n",
            "                                                                 \n",
            " block4_pool (MaxPooling2D)  (None, 11, 11, 512)       0         \n",
            "                                                                 \n",
            " block5_conv1 (Conv2D)       (None, 11, 11, 512)       2359808   \n",
            "                                                                 \n",
            " block5_conv2 (Conv2D)       (None, 11, 11, 512)       2359808   \n",
            "                                                                 \n",
            " block5_conv3 (Conv2D)       (None, 11, 11, 512)       2359808   \n",
            "                                                                 \n",
            " block5_pool (MaxPooling2D)  (None, 5, 5, 512)         0         \n",
            "                                                                 \n",
            " flatten (Flatten)           (None, 12800)             0         \n",
            "                                                                 \n",
            " dense (Dense)               (None, 27)                345627    \n",
            "                                                                 \n",
            "=================================================================\n",
            "Total params: 15,060,315\n",
            "Trainable params: 345,627\n",
            "Non-trainable params: 14,714,688\n",
            "_________________________________________________________________\n"
          ]
        }
      ],
      "source": [
        "# View the structure of the model\n",
        "model.summary()"
      ]
    },
    {
      "cell_type": "code",
      "execution_count": 14,
      "metadata": {
        "id": "DrHzzhStSu-Z"
      },
      "outputs": [],
      "source": [
        "# Model Compilation\n",
        "model.compile(\n",
        "    loss='categorical_crossentropy',\n",
        "    metrics=[\n",
        "        keras.metrics.Precision(name='precision'),\n",
        "        'accuracy',\n",
        "        keras.metrics.Recall(name='recall'),],optimizer='adam')"
      ]
    },
    {
      "cell_type": "code",
      "execution_count": 15,
      "metadata": {
        "id": "egM4tJ_FSu7I"
      },
      "outputs": [],
      "source": [
        "# Preprocessing\n",
        "train_datagen = ImageDataGenerator(\n",
        "    rescale=1./255,\n",
        "    shear_range=0.2,\n",
        "    zoom_range=0.2,\n",
        "    horizontal_flip=True\n",
        ")"
      ]
    },
    {
      "cell_type": "code",
      "execution_count": 16,
      "metadata": {
        "id": "cU0ggCRoSu3v"
      },
      "outputs": [],
      "source": [
        "test_datagen = ImageDataGenerator(rescale=1./255)"
      ]
    },
    {
      "cell_type": "code",
      "execution_count": 17,
      "metadata": {
        "colab": {
          "base_uri": "https://localhost:8080/"
        },
        "id": "zLuhLWrLSu0s",
        "outputId": "8ff8a739-07bc-425f-e905-ef3dc7044360"
      },
      "outputs": [
        {
          "output_type": "stream",
          "name": "stdout",
          "text": [
            "Found 3359 images belonging to 27 classes.\n"
          ]
        }
      ],
      "source": [
        "training_set = train_datagen.flow_from_directory(\n",
        "    train_path,\n",
        "    target_size=(180, 180),\n",
        "    batch_size=16,\n",
        "    class_mode='categorical'\n",
        ")"
      ]
    },
    {
      "cell_type": "code",
      "execution_count": 18,
      "metadata": {
        "colab": {
          "base_uri": "https://localhost:8080/"
        },
        "id": "HV5qt_CnU4g3",
        "outputId": "2275cff9-e3d0-4580-c219-2dcb977a33e0"
      },
      "outputs": [
        {
          "output_type": "stream",
          "name": "stdout",
          "text": [
            "Found 359 images belonging to 27 classes.\n"
          ]
        }
      ],
      "source": [
        "test_set = test_datagen.flow_from_directory(\n",
        "    valid_path,\n",
        "    target_size=(180, 180),\n",
        "    batch_size=16,\n",
        "    class_mode='categorical'\n",
        ")"
      ]
    },
    {
      "cell_type": "code",
      "execution_count": 19,
      "metadata": {
        "id": "dBLKwlfTjp0p"
      },
      "outputs": [],
      "source": [
        "# Define the paths for saving the best and last models\n",
        "best_model_path = ''\n",
        "last_model_path = ''\n",
        "\n",
        "# Define the callbacks\n",
        "callbacks = [\n",
        "    ModelCheckpoint(best_model_path, monitor='val_loss', save_best_only=True),\n",
        "    ModelCheckpoint(last_model_path, save_weights_only=False, save_freq='epoch')\n",
        "]"
      ]
    },
    {
      "cell_type": "code",
      "execution_count": 20,
      "metadata": {
        "colab": {
          "base_uri": "https://localhost:8080/"
        },
        "id": "QWSvBBjDU5gm",
        "outputId": "de1f0f4e-a2a2-4311-f4e0-f6f6c2866e69"
      },
      "outputs": [
        {
          "output_type": "stream",
          "name": "stdout",
          "text": [
            "Epoch 1/50\n",
            "210/210 [==============================] - ETA: 0s - loss: 1.0000 - precision: 0.9568 - accuracy: 0.7392 - recall: 0.6073"
          ]
        },
        {
          "output_type": "stream",
          "name": "stderr",
          "text": [
            "WARNING:absl:Found untraced functions such as _jit_compiled_convolution_op, _jit_compiled_convolution_op, _jit_compiled_convolution_op, _jit_compiled_convolution_op, _jit_compiled_convolution_op while saving (showing 5 of 13). These functions will not be directly callable after loading.\n",
            "WARNING:absl:Found untraced functions such as _jit_compiled_convolution_op, _jit_compiled_convolution_op, _jit_compiled_convolution_op, _jit_compiled_convolution_op, _jit_compiled_convolution_op while saving (showing 5 of 13). These functions will not be directly callable after loading.\n"
          ]
        },
        {
          "output_type": "stream",
          "name": "stdout",
          "text": [
            "\b\b\b\b\b\b\b\b\b\b\b\b\b\b\b\b\b\b\b\b\b\b\b\b\b\b\b\b\b\b\b\b\b\b\b\b\b\b\b\b\b\b\b\b\b\b\b\b\b\b\b\b\b\b\b\b\b\b\b\b\b\b\b\b\b\b\b\b\b\b\b\b\b\b\b\b\b\b\b\b\b\b\b\b\b\b\b\b\b\b\b\b\b\b\b\b\b\b\b\b\b\b\b\b\b\b\b\b\b\b\b\b\b\b\b\b\b\b\b\b\b\r210/210 [==============================] - 822s 4s/step - loss: 1.0000 - precision: 0.9568 - accuracy: 0.7392 - recall: 0.6073 - val_loss: 0.5453 - val_precision: 0.9549 - val_accuracy: 0.8579 - val_recall: 0.7660\n",
            "Epoch 2/50\n",
            "210/210 [==============================] - ETA: 0s - loss: 0.3472 - precision: 0.9804 - accuracy: 0.9098 - recall: 0.8494"
          ]
        },
        {
          "output_type": "stream",
          "name": "stderr",
          "text": [
            "WARNING:absl:Found untraced functions such as _jit_compiled_convolution_op, _jit_compiled_convolution_op, _jit_compiled_convolution_op, _jit_compiled_convolution_op, _jit_compiled_convolution_op while saving (showing 5 of 13). These functions will not be directly callable after loading.\n",
            "WARNING:absl:Found untraced functions such as _jit_compiled_convolution_op, _jit_compiled_convolution_op, _jit_compiled_convolution_op, _jit_compiled_convolution_op, _jit_compiled_convolution_op while saving (showing 5 of 13). These functions will not be directly callable after loading.\n"
          ]
        },
        {
          "output_type": "stream",
          "name": "stdout",
          "text": [
            "\b\b\b\b\b\b\b\b\b\b\b\b\b\b\b\b\b\b\b\b\b\b\b\b\b\b\b\b\b\b\b\b\b\b\b\b\b\b\b\b\b\b\b\b\b\b\b\b\b\b\b\b\b\b\b\b\b\b\b\b\b\b\b\b\b\b\b\b\b\b\b\b\b\b\b\b\b\b\b\b\b\b\b\b\b\b\b\b\b\b\b\b\b\b\b\b\b\b\b\b\b\b\b\b\b\b\b\b\b\b\b\b\b\b\b\b\b\b\b\b\b\r210/210 [==============================] - 39s 185ms/step - loss: 0.3472 - precision: 0.9804 - accuracy: 0.9098 - recall: 0.8494 - val_loss: 0.4894 - val_precision: 0.9425 - val_accuracy: 0.8802 - val_recall: 0.8217\n",
            "Epoch 3/50\n",
            "210/210 [==============================] - ETA: 0s - loss: 0.2350 - precision: 0.9796 - accuracy: 0.9369 - recall: 0.9003"
          ]
        },
        {
          "output_type": "stream",
          "name": "stderr",
          "text": [
            "WARNING:absl:Found untraced functions such as _jit_compiled_convolution_op, _jit_compiled_convolution_op, _jit_compiled_convolution_op, _jit_compiled_convolution_op, _jit_compiled_convolution_op while saving (showing 5 of 13). These functions will not be directly callable after loading.\n",
            "WARNING:absl:Found untraced functions such as _jit_compiled_convolution_op, _jit_compiled_convolution_op, _jit_compiled_convolution_op, _jit_compiled_convolution_op, _jit_compiled_convolution_op while saving (showing 5 of 13). These functions will not be directly callable after loading.\n"
          ]
        },
        {
          "output_type": "stream",
          "name": "stdout",
          "text": [
            "\b\b\b\b\b\b\b\b\b\b\b\b\b\b\b\b\b\b\b\b\b\b\b\b\b\b\b\b\b\b\b\b\b\b\b\b\b\b\b\b\b\b\b\b\b\b\b\b\b\b\b\b\b\b\b\b\b\b\b\b\b\b\b\b\b\b\b\b\b\b\b\b\b\b\b\b\b\b\b\b\b\b\b\b\b\b\b\b\b\b\b\b\b\b\b\b\b\b\b\b\b\b\b\b\b\b\b\b\b\b\b\b\b\b\b\b\b\b\b\b\b\r210/210 [==============================] - 39s 185ms/step - loss: 0.2350 - precision: 0.9796 - accuracy: 0.9369 - recall: 0.9003 - val_loss: 0.3917 - val_precision: 0.9776 - val_accuracy: 0.9081 - val_recall: 0.8524\n",
            "Epoch 4/50\n",
            "210/210 [==============================] - ETA: 0s - loss: 0.1871 - precision: 0.9807 - accuracy: 0.9515 - recall: 0.9235"
          ]
        },
        {
          "output_type": "stream",
          "name": "stderr",
          "text": [
            "WARNING:absl:Found untraced functions such as _jit_compiled_convolution_op, _jit_compiled_convolution_op, _jit_compiled_convolution_op, _jit_compiled_convolution_op, _jit_compiled_convolution_op while saving (showing 5 of 13). These functions will not be directly callable after loading.\n",
            "WARNING:absl:Found untraced functions such as _jit_compiled_convolution_op, _jit_compiled_convolution_op, _jit_compiled_convolution_op, _jit_compiled_convolution_op, _jit_compiled_convolution_op while saving (showing 5 of 13). These functions will not be directly callable after loading.\n"
          ]
        },
        {
          "output_type": "stream",
          "name": "stdout",
          "text": [
            "\b\b\b\b\b\b\b\b\b\b\b\b\b\b\b\b\b\b\b\b\b\b\b\b\b\b\b\b\b\b\b\b\b\b\b\b\b\b\b\b\b\b\b\b\b\b\b\b\b\b\b\b\b\b\b\b\b\b\b\b\b\b\b\b\b\b\b\b\b\b\b\b\b\b\b\b\b\b\b\b\b\b\b\b\b\b\b\b\b\b\b\b\b\b\b\b\b\b\b\b\b\b\b\b\b\b\b\b\b\b\b\b\b\b\b\b\b\b\b\b\b\r210/210 [==============================] - 39s 184ms/step - loss: 0.1871 - precision: 0.9807 - accuracy: 0.9515 - recall: 0.9235 - val_loss: 0.3233 - val_precision: 0.9547 - val_accuracy: 0.9220 - val_recall: 0.8802\n",
            "Epoch 5/50\n",
            "210/210 [==============================] - ETA: 0s - loss: 0.1592 - precision: 0.9790 - accuracy: 0.9494 - recall: 0.9286"
          ]
        },
        {
          "output_type": "stream",
          "name": "stderr",
          "text": [
            "WARNING:absl:Found untraced functions such as _jit_compiled_convolution_op, _jit_compiled_convolution_op, _jit_compiled_convolution_op, _jit_compiled_convolution_op, _jit_compiled_convolution_op while saving (showing 5 of 13). These functions will not be directly callable after loading.\n"
          ]
        },
        {
          "output_type": "stream",
          "name": "stdout",
          "text": [
            "\b\b\b\b\b\b\b\b\b\b\b\b\b\b\b\b\b\b\b\b\b\b\b\b\b\b\b\b\b\b\b\b\b\b\b\b\b\b\b\b\b\b\b\b\b\b\b\b\b\b\b\b\b\b\b\b\b\b\b\b\b\b\b\b\b\b\b\b\b\b\b\b\b\b\b\b\b\b\b\b\b\b\b\b\b\b\b\b\b\b\b\b\b\b\b\b\b\b\b\b\b\b\b\b\b\b\b\b\b\b\b\b\b\b\b\b\b\b\b\b\b\r210/210 [==============================] - 36s 172ms/step - loss: 0.1592 - precision: 0.9790 - accuracy: 0.9494 - recall: 0.9286 - val_loss: 0.4220 - val_precision: 0.9145 - val_accuracy: 0.8747 - val_recall: 0.8635\n",
            "Epoch 6/50\n",
            "210/210 [==============================] - ETA: 0s - loss: 0.1400 - precision: 0.9823 - accuracy: 0.9604 - recall: 0.9425"
          ]
        },
        {
          "output_type": "stream",
          "name": "stderr",
          "text": [
            "WARNING:absl:Found untraced functions such as _jit_compiled_convolution_op, _jit_compiled_convolution_op, _jit_compiled_convolution_op, _jit_compiled_convolution_op, _jit_compiled_convolution_op while saving (showing 5 of 13). These functions will not be directly callable after loading.\n"
          ]
        },
        {
          "output_type": "stream",
          "name": "stdout",
          "text": [
            "\b\b\b\b\b\b\b\b\b\b\b\b\b\b\b\b\b\b\b\b\b\b\b\b\b\b\b\b\b\b\b\b\b\b\b\b\b\b\b\b\b\b\b\b\b\b\b\b\b\b\b\b\b\b\b\b\b\b\b\b\b\b\b\b\b\b\b\b\b\b\b\b\b\b\b\b\b\b\b\b\b\b\b\b\b\b\b\b\b\b\b\b\b\b\b\b\b\b\b\b\b\b\b\b\b\b\b\b\b\b\b\b\b\b\b\b\b\b\b\b\b\r210/210 [==============================] - 38s 182ms/step - loss: 0.1400 - precision: 0.9823 - accuracy: 0.9604 - recall: 0.9425 - val_loss: 0.3366 - val_precision: 0.9499 - val_accuracy: 0.9136 - val_recall: 0.8969\n",
            "Epoch 7/50\n",
            "210/210 [==============================] - ETA: 0s - loss: 0.1056 - precision: 0.9874 - accuracy: 0.9705 - recall: 0.9547"
          ]
        },
        {
          "output_type": "stream",
          "name": "stderr",
          "text": [
            "WARNING:absl:Found untraced functions such as _jit_compiled_convolution_op, _jit_compiled_convolution_op, _jit_compiled_convolution_op, _jit_compiled_convolution_op, _jit_compiled_convolution_op while saving (showing 5 of 13). These functions will not be directly callable after loading.\n"
          ]
        },
        {
          "output_type": "stream",
          "name": "stdout",
          "text": [
            "\b\b\b\b\b\b\b\b\b\b\b\b\b\b\b\b\b\b\b\b\b\b\b\b\b\b\b\b\b\b\b\b\b\b\b\b\b\b\b\b\b\b\b\b\b\b\b\b\b\b\b\b\b\b\b\b\b\b\b\b\b\b\b\b\b\b\b\b\b\b\b\b\b\b\b\b\b\b\b\b\b\b\b\b\b\b\b\b\b\b\b\b\b\b\b\b\b\b\b\b\b\b\b\b\b\b\b\b\b\b\b\b\b\b\b\b\b\b\b\b\b\r210/210 [==============================] - 38s 179ms/step - loss: 0.1056 - precision: 0.9874 - accuracy: 0.9705 - recall: 0.9547 - val_loss: 0.3451 - val_precision: 0.9531 - val_accuracy: 0.9192 - val_recall: 0.9053\n",
            "Epoch 8/50\n",
            "210/210 [==============================] - ETA: 0s - loss: 0.0950 - precision: 0.9872 - accuracy: 0.9744 - recall: 0.9646"
          ]
        },
        {
          "output_type": "stream",
          "name": "stderr",
          "text": [
            "WARNING:absl:Found untraced functions such as _jit_compiled_convolution_op, _jit_compiled_convolution_op, _jit_compiled_convolution_op, _jit_compiled_convolution_op, _jit_compiled_convolution_op while saving (showing 5 of 13). These functions will not be directly callable after loading.\n"
          ]
        },
        {
          "output_type": "stream",
          "name": "stdout",
          "text": [
            "\b\b\b\b\b\b\b\b\b\b\b\b\b\b\b\b\b\b\b\b\b\b\b\b\b\b\b\b\b\b\b\b\b\b\b\b\b\b\b\b\b\b\b\b\b\b\b\b\b\b\b\b\b\b\b\b\b\b\b\b\b\b\b\b\b\b\b\b\b\b\b\b\b\b\b\b\b\b\b\b\b\b\b\b\b\b\b\b\b\b\b\b\b\b\b\b\b\b\b\b\b\b\b\b\b\b\b\b\b\b\b\b\b\b\b\b\b\b\b\b\b\r210/210 [==============================] - 37s 178ms/step - loss: 0.0950 - precision: 0.9872 - accuracy: 0.9744 - recall: 0.9646 - val_loss: 0.3687 - val_precision: 0.9419 - val_accuracy: 0.9136 - val_recall: 0.9025\n",
            "Epoch 9/50\n",
            "210/210 [==============================] - ETA: 0s - loss: 0.0858 - precision: 0.9884 - accuracy: 0.9750 - recall: 0.9658"
          ]
        },
        {
          "output_type": "stream",
          "name": "stderr",
          "text": [
            "WARNING:absl:Found untraced functions such as _jit_compiled_convolution_op, _jit_compiled_convolution_op, _jit_compiled_convolution_op, _jit_compiled_convolution_op, _jit_compiled_convolution_op while saving (showing 5 of 13). These functions will not be directly callable after loading.\n"
          ]
        },
        {
          "output_type": "stream",
          "name": "stdout",
          "text": [
            "\b\b\b\b\b\b\b\b\b\b\b\b\b\b\b\b\b\b\b\b\b\b\b\b\b\b\b\b\b\b\b\b\b\b\b\b\b\b\b\b\b\b\b\b\b\b\b\b\b\b\b\b\b\b\b\b\b\b\b\b\b\b\b\b\b\b\b\b\b\b\b\b\b\b\b\b\b\b\b\b\b\b\b\b\b\b\b\b\b\b\b\b\b\b\b\b\b\b\b\b\b\b\b\b\b\b\b\b\b\b\b\b\b\b\b\b\b\b\b\b\b\r210/210 [==============================] - 37s 176ms/step - loss: 0.0858 - precision: 0.9884 - accuracy: 0.9750 - recall: 0.9658 - val_loss: 0.3489 - val_precision: 0.9441 - val_accuracy: 0.9220 - val_recall: 0.8942\n",
            "Epoch 10/50\n",
            "210/210 [==============================] - ETA: 0s - loss: 0.0601 - precision: 0.9924 - accuracy: 0.9857 - recall: 0.9771"
          ]
        },
        {
          "output_type": "stream",
          "name": "stderr",
          "text": [
            "WARNING:absl:Found untraced functions such as _jit_compiled_convolution_op, _jit_compiled_convolution_op, _jit_compiled_convolution_op, _jit_compiled_convolution_op, _jit_compiled_convolution_op while saving (showing 5 of 13). These functions will not be directly callable after loading.\n"
          ]
        },
        {
          "output_type": "stream",
          "name": "stdout",
          "text": [
            "\b\b\b\b\b\b\b\b\b\b\b\b\b\b\b\b\b\b\b\b\b\b\b\b\b\b\b\b\b\b\b\b\b\b\b\b\b\b\b\b\b\b\b\b\b\b\b\b\b\b\b\b\b\b\b\b\b\b\b\b\b\b\b\b\b\b\b\b\b\b\b\b\b\b\b\b\b\b\b\b\b\b\b\b\b\b\b\b\b\b\b\b\b\b\b\b\b\b\b\b\b\b\b\b\b\b\b\b\b\b\b\b\b\b\b\b\b\b\b\b\b\r210/210 [==============================] - 37s 175ms/step - loss: 0.0601 - precision: 0.9924 - accuracy: 0.9857 - recall: 0.9771 - val_loss: 0.3476 - val_precision: 0.9449 - val_accuracy: 0.9248 - val_recall: 0.9081\n",
            "Epoch 11/50\n",
            "210/210 [==============================] - ETA: 0s - loss: 0.0628 - precision: 0.9894 - accuracy: 0.9809 - recall: 0.9735"
          ]
        },
        {
          "output_type": "stream",
          "name": "stderr",
          "text": [
            "WARNING:absl:Found untraced functions such as _jit_compiled_convolution_op, _jit_compiled_convolution_op, _jit_compiled_convolution_op, _jit_compiled_convolution_op, _jit_compiled_convolution_op while saving (showing 5 of 13). These functions will not be directly callable after loading.\n"
          ]
        },
        {
          "output_type": "stream",
          "name": "stdout",
          "text": [
            "\b\b\b\b\b\b\b\b\b\b\b\b\b\b\b\b\b\b\b\b\b\b\b\b\b\b\b\b\b\b\b\b\b\b\b\b\b\b\b\b\b\b\b\b\b\b\b\b\b\b\b\b\b\b\b\b\b\b\b\b\b\b\b\b\b\b\b\b\b\b\b\b\b\b\b\b\b\b\b\b\b\b\b\b\b\b\b\b\b\b\b\b\b\b\b\b\b\b\b\b\b\b\b\b\b\b\b\b\b\b\b\b\b\b\b\b\b\b\b\b\b\r210/210 [==============================] - 37s 175ms/step - loss: 0.0628 - precision: 0.9894 - accuracy: 0.9809 - recall: 0.9735 - val_loss: 0.3429 - val_precision: 0.9592 - val_accuracy: 0.9276 - val_recall: 0.9164\n",
            "Epoch 12/50\n",
            "210/210 [==============================] - ETA: 0s - loss: 0.0501 - precision: 0.9946 - accuracy: 0.9881 - recall: 0.9809"
          ]
        },
        {
          "output_type": "stream",
          "name": "stderr",
          "text": [
            "WARNING:absl:Found untraced functions such as _jit_compiled_convolution_op, _jit_compiled_convolution_op, _jit_compiled_convolution_op, _jit_compiled_convolution_op, _jit_compiled_convolution_op while saving (showing 5 of 13). These functions will not be directly callable after loading.\n"
          ]
        },
        {
          "output_type": "stream",
          "name": "stdout",
          "text": [
            "\b\b\b\b\b\b\b\b\b\b\b\b\b\b\b\b\b\b\b\b\b\b\b\b\b\b\b\b\b\b\b\b\b\b\b\b\b\b\b\b\b\b\b\b\b\b\b\b\b\b\b\b\b\b\b\b\b\b\b\b\b\b\b\b\b\b\b\b\b\b\b\b\b\b\b\b\b\b\b\b\b\b\b\b\b\b\b\b\b\b\b\b\b\b\b\b\b\b\b\b\b\b\b\b\b\b\b\b\b\b\b\b\b\b\b\b\b\b\b\b\b\r210/210 [==============================] - 37s 176ms/step - loss: 0.0501 - precision: 0.9946 - accuracy: 0.9881 - recall: 0.9809 - val_loss: 0.3495 - val_precision: 0.9480 - val_accuracy: 0.9331 - val_recall: 0.9136\n",
            "Epoch 13/50\n",
            "210/210 [==============================] - ETA: 0s - loss: 0.0488 - precision: 0.9922 - accuracy: 0.9869 - recall: 0.9809"
          ]
        },
        {
          "output_type": "stream",
          "name": "stderr",
          "text": [
            "WARNING:absl:Found untraced functions such as _jit_compiled_convolution_op, _jit_compiled_convolution_op, _jit_compiled_convolution_op, _jit_compiled_convolution_op, _jit_compiled_convolution_op while saving (showing 5 of 13). These functions will not be directly callable after loading.\n"
          ]
        },
        {
          "output_type": "stream",
          "name": "stdout",
          "text": [
            "\b\b\b\b\b\b\b\b\b\b\b\b\b\b\b\b\b\b\b\b\b\b\b\b\b\b\b\b\b\b\b\b\b\b\b\b\b\b\b\b\b\b\b\b\b\b\b\b\b\b\b\b\b\b\b\b\b\b\b\b\b\b\b\b\b\b\b\b\b\b\b\b\b\b\b\b\b\b\b\b\b\b\b\b\b\b\b\b\b\b\b\b\b\b\b\b\b\b\b\b\b\b\b\b\b\b\b\b\b\b\b\b\b\b\b\b\b\b\b\b\b\r210/210 [==============================] - 37s 176ms/step - loss: 0.0488 - precision: 0.9922 - accuracy: 0.9869 - recall: 0.9809 - val_loss: 0.3616 - val_precision: 0.9483 - val_accuracy: 0.9276 - val_recall: 0.9192\n",
            "Epoch 14/50\n",
            "210/210 [==============================] - ETA: 0s - loss: 0.0515 - precision: 0.9916 - accuracy: 0.9878 - recall: 0.9809"
          ]
        },
        {
          "output_type": "stream",
          "name": "stderr",
          "text": [
            "WARNING:absl:Found untraced functions such as _jit_compiled_convolution_op, _jit_compiled_convolution_op, _jit_compiled_convolution_op, _jit_compiled_convolution_op, _jit_compiled_convolution_op while saving (showing 5 of 13). These functions will not be directly callable after loading.\n"
          ]
        },
        {
          "output_type": "stream",
          "name": "stdout",
          "text": [
            "\b\b\b\b\b\b\b\b\b\b\b\b\b\b\b\b\b\b\b\b\b\b\b\b\b\b\b\b\b\b\b\b\b\b\b\b\b\b\b\b\b\b\b\b\b\b\b\b\b\b\b\b\b\b\b\b\b\b\b\b\b\b\b\b\b\b\b\b\b\b\b\b\b\b\b\b\b\b\b\b\b\b\b\b\b\b\b\b\b\b\b\b\b\b\b\b\b\b\b\b\b\b\b\b\b\b\b\b\b\b\b\b\b\b\b\b\b\b\b\b\b\r210/210 [==============================] - 37s 174ms/step - loss: 0.0515 - precision: 0.9916 - accuracy: 0.9878 - recall: 0.9809 - val_loss: 0.3965 - val_precision: 0.9397 - val_accuracy: 0.9192 - val_recall: 0.9109\n",
            "Epoch 15/50\n",
            "210/210 [==============================] - ETA: 0s - loss: 0.0485 - precision: 0.9925 - accuracy: 0.9878 - recall: 0.9824"
          ]
        },
        {
          "output_type": "stream",
          "name": "stderr",
          "text": [
            "WARNING:absl:Found untraced functions such as _jit_compiled_convolution_op, _jit_compiled_convolution_op, _jit_compiled_convolution_op, _jit_compiled_convolution_op, _jit_compiled_convolution_op while saving (showing 5 of 13). These functions will not be directly callable after loading.\n"
          ]
        },
        {
          "output_type": "stream",
          "name": "stdout",
          "text": [
            "\b\b\b\b\b\b\b\b\b\b\b\b\b\b\b\b\b\b\b\b\b\b\b\b\b\b\b\b\b\b\b\b\b\b\b\b\b\b\b\b\b\b\b\b\b\b\b\b\b\b\b\b\b\b\b\b\b\b\b\b\b\b\b\b\b\b\b\b\b\b\b\b\b\b\b\b\b\b\b\b\b\b\b\b\b\b\b\b\b\b\b\b\b\b\b\b\b\b\b\b\b\b\b\b\b\b\b\b\b\b\b\b\b\b\b\b\b\b\b\b\b\r210/210 [==============================] - 37s 175ms/step - loss: 0.0485 - precision: 0.9925 - accuracy: 0.9878 - recall: 0.9824 - val_loss: 0.3384 - val_precision: 0.9462 - val_accuracy: 0.9387 - val_recall: 0.9304\n",
            "Epoch 16/50\n",
            "210/210 [==============================] - ETA: 0s - loss: 0.0402 - precision: 0.9934 - accuracy: 0.9890 - recall: 0.9854"
          ]
        },
        {
          "output_type": "stream",
          "name": "stderr",
          "text": [
            "WARNING:absl:Found untraced functions such as _jit_compiled_convolution_op, _jit_compiled_convolution_op, _jit_compiled_convolution_op, _jit_compiled_convolution_op, _jit_compiled_convolution_op while saving (showing 5 of 13). These functions will not be directly callable after loading.\n"
          ]
        },
        {
          "output_type": "stream",
          "name": "stdout",
          "text": [
            "\b\b\b\b\b\b\b\b\b\b\b\b\b\b\b\b\b\b\b\b\b\b\b\b\b\b\b\b\b\b\b\b\b\b\b\b\b\b\b\b\b\b\b\b\b\b\b\b\b\b\b\b\b\b\b\b\b\b\b\b\b\b\b\b\b\b\b\b\b\b\b\b\b\b\b\b\b\b\b\b\b\b\b\b\b\b\b\b\b\b\b\b\b\b\b\b\b\b\b\b\b\b\b\b\b\b\b\b\b\b\b\b\b\b\b\b\b\b\b\b\b\r210/210 [==============================] - 37s 174ms/step - loss: 0.0402 - precision: 0.9934 - accuracy: 0.9890 - recall: 0.9854 - val_loss: 0.3506 - val_precision: 0.9395 - val_accuracy: 0.9192 - val_recall: 0.9081\n",
            "Epoch 17/50\n",
            "210/210 [==============================] - ETA: 0s - loss: 0.0467 - precision: 0.9916 - accuracy: 0.9890 - recall: 0.9857"
          ]
        },
        {
          "output_type": "stream",
          "name": "stderr",
          "text": [
            "WARNING:absl:Found untraced functions such as _jit_compiled_convolution_op, _jit_compiled_convolution_op, _jit_compiled_convolution_op, _jit_compiled_convolution_op, _jit_compiled_convolution_op while saving (showing 5 of 13). These functions will not be directly callable after loading.\n"
          ]
        },
        {
          "output_type": "stream",
          "name": "stdout",
          "text": [
            "\b\b\b\b\b\b\b\b\b\b\b\b\b\b\b\b\b\b\b\b\b\b\b\b\b\b\b\b\b\b\b\b\b\b\b\b\b\b\b\b\b\b\b\b\b\b\b\b\b\b\b\b\b\b\b\b\b\b\b\b\b\b\b\b\b\b\b\b\b\b\b\b\b\b\b\b\b\b\b\b\b\b\b\b\b\b\b\b\b\b\b\b\b\b\b\b\b\b\b\b\b\b\b\b\b\b\b\b\b\b\b\b\b\b\b\b\b\b\b\b\b\r210/210 [==============================] - 37s 176ms/step - loss: 0.0467 - precision: 0.9916 - accuracy: 0.9890 - recall: 0.9857 - val_loss: 0.3552 - val_precision: 0.9366 - val_accuracy: 0.9164 - val_recall: 0.9053\n",
            "Epoch 18/50\n",
            "210/210 [==============================] - ETA: 0s - loss: 0.0511 - precision: 0.9874 - accuracy: 0.9815 - recall: 0.9783"
          ]
        },
        {
          "output_type": "stream",
          "name": "stderr",
          "text": [
            "WARNING:absl:Found untraced functions such as _jit_compiled_convolution_op, _jit_compiled_convolution_op, _jit_compiled_convolution_op, _jit_compiled_convolution_op, _jit_compiled_convolution_op while saving (showing 5 of 13). These functions will not be directly callable after loading.\n"
          ]
        },
        {
          "output_type": "stream",
          "name": "stdout",
          "text": [
            "\b\b\b\b\b\b\b\b\b\b\b\b\b\b\b\b\b\b\b\b\b\b\b\b\b\b\b\b\b\b\b\b\b\b\b\b\b\b\b\b\b\b\b\b\b\b\b\b\b\b\b\b\b\b\b\b\b\b\b\b\b\b\b\b\b\b\b\b\b\b\b\b\b\b\b\b\b\b\b\b\b\b\b\b\b\b\b\b\b\b\b\b\b\b\b\b\b\b\b\b\b\b\b\b\b\b\b\b\b\b\b\b\b\b\b\b\b\b\b\b\b\r210/210 [==============================] - 36s 173ms/step - loss: 0.0511 - precision: 0.9874 - accuracy: 0.9815 - recall: 0.9783 - val_loss: 0.3715 - val_precision: 0.9429 - val_accuracy: 0.9304 - val_recall: 0.9192\n",
            "Epoch 19/50\n",
            "210/210 [==============================] - ETA: 0s - loss: 0.0446 - precision: 0.9901 - accuracy: 0.9863 - recall: 0.9833"
          ]
        },
        {
          "output_type": "stream",
          "name": "stderr",
          "text": [
            "WARNING:absl:Found untraced functions such as _jit_compiled_convolution_op, _jit_compiled_convolution_op, _jit_compiled_convolution_op, _jit_compiled_convolution_op, _jit_compiled_convolution_op while saving (showing 5 of 13). These functions will not be directly callable after loading.\n"
          ]
        },
        {
          "output_type": "stream",
          "name": "stdout",
          "text": [
            "\b\b\b\b\b\b\b\b\b\b\b\b\b\b\b\b\b\b\b\b\b\b\b\b\b\b\b\b\b\b\b\b\b\b\b\b\b\b\b\b\b\b\b\b\b\b\b\b\b\b\b\b\b\b\b\b\b\b\b\b\b\b\b\b\b\b\b\b\b\b\b\b\b\b\b\b\b\b\b\b\b\b\b\b\b\b\b\b\b\b\b\b\b\b\b\b\b\b\b\b\b\b\b\b\b\b\b\b\b\b\b\b\b\b\b\b\b\b\b\b\b\r210/210 [==============================] - 38s 181ms/step - loss: 0.0446 - precision: 0.9901 - accuracy: 0.9863 - recall: 0.9833 - val_loss: 0.3932 - val_precision: 0.9371 - val_accuracy: 0.9220 - val_recall: 0.9136\n",
            "Epoch 20/50\n",
            "210/210 [==============================] - ETA: 0s - loss: 0.0575 - precision: 0.9847 - accuracy: 0.9804 - recall: 0.9780"
          ]
        },
        {
          "output_type": "stream",
          "name": "stderr",
          "text": [
            "WARNING:absl:Found untraced functions such as _jit_compiled_convolution_op, _jit_compiled_convolution_op, _jit_compiled_convolution_op, _jit_compiled_convolution_op, _jit_compiled_convolution_op while saving (showing 5 of 13). These functions will not be directly callable after loading.\n"
          ]
        },
        {
          "output_type": "stream",
          "name": "stdout",
          "text": [
            "\b\b\b\b\b\b\b\b\b\b\b\b\b\b\b\b\b\b\b\b\b\b\b\b\b\b\b\b\b\b\b\b\b\b\b\b\b\b\b\b\b\b\b\b\b\b\b\b\b\b\b\b\b\b\b\b\b\b\b\b\b\b\b\b\b\b\b\b\b\b\b\b\b\b\b\b\b\b\b\b\b\b\b\b\b\b\b\b\b\b\b\b\b\b\b\b\b\b\b\b\b\b\b\b\b\b\b\b\b\b\b\b\b\b\b\b\b\b\b\b\b\r210/210 [==============================] - 38s 179ms/step - loss: 0.0575 - precision: 0.9847 - accuracy: 0.9804 - recall: 0.9780 - val_loss: 0.4819 - val_precision: 0.9164 - val_accuracy: 0.8942 - val_recall: 0.8858\n",
            "Epoch 21/50\n",
            "210/210 [==============================] - ETA: 0s - loss: 0.0475 - precision: 0.9910 - accuracy: 0.9890 - recall: 0.9842"
          ]
        },
        {
          "output_type": "stream",
          "name": "stderr",
          "text": [
            "WARNING:absl:Found untraced functions such as _jit_compiled_convolution_op, _jit_compiled_convolution_op, _jit_compiled_convolution_op, _jit_compiled_convolution_op, _jit_compiled_convolution_op while saving (showing 5 of 13). These functions will not be directly callable after loading.\n"
          ]
        },
        {
          "output_type": "stream",
          "name": "stdout",
          "text": [
            "\b\b\b\b\b\b\b\b\b\b\b\b\b\b\b\b\b\b\b\b\b\b\b\b\b\b\b\b\b\b\b\b\b\b\b\b\b\b\b\b\b\b\b\b\b\b\b\b\b\b\b\b\b\b\b\b\b\b\b\b\b\b\b\b\b\b\b\b\b\b\b\b\b\b\b\b\b\b\b\b\b\b\b\b\b\b\b\b\b\b\b\b\b\b\b\b\b\b\b\b\b\b\b\b\b\b\b\b\b\b\b\b\b\b\b\b\b\b\b\b\b\r210/210 [==============================] - 36s 171ms/step - loss: 0.0475 - precision: 0.9910 - accuracy: 0.9890 - recall: 0.9842 - val_loss: 0.3675 - val_precision: 0.9398 - val_accuracy: 0.9248 - val_recall: 0.9136\n",
            "Epoch 22/50\n",
            "210/210 [==============================] - ETA: 0s - loss: 0.0406 - precision: 0.9910 - accuracy: 0.9878 - recall: 0.9857"
          ]
        },
        {
          "output_type": "stream",
          "name": "stderr",
          "text": [
            "WARNING:absl:Found untraced functions such as _jit_compiled_convolution_op, _jit_compiled_convolution_op, _jit_compiled_convolution_op, _jit_compiled_convolution_op, _jit_compiled_convolution_op while saving (showing 5 of 13). These functions will not be directly callable after loading.\n"
          ]
        },
        {
          "output_type": "stream",
          "name": "stdout",
          "text": [
            "\b\b\b\b\b\b\b\b\b\b\b\b\b\b\b\b\b\b\b\b\b\b\b\b\b\b\b\b\b\b\b\b\b\b\b\b\b\b\b\b\b\b\b\b\b\b\b\b\b\b\b\b\b\b\b\b\b\b\b\b\b\b\b\b\b\b\b\b\b\b\b\b\b\b\b\b\b\b\b\b\b\b\b\b\b\b\b\b\b\b\b\b\b\b\b\b\b\b\b\b\b\b\b\b\b\b\b\b\b\b\b\b\b\b\b\b\b\b\b\b\b\r210/210 [==============================] - 37s 176ms/step - loss: 0.0406 - precision: 0.9910 - accuracy: 0.9878 - recall: 0.9857 - val_loss: 0.7686 - val_precision: 0.8983 - val_accuracy: 0.8886 - val_recall: 0.8858\n",
            "Epoch 23/50\n",
            "210/210 [==============================] - ETA: 0s - loss: 0.0378 - precision: 0.9931 - accuracy: 0.9905 - recall: 0.9869"
          ]
        },
        {
          "output_type": "stream",
          "name": "stderr",
          "text": [
            "WARNING:absl:Found untraced functions such as _jit_compiled_convolution_op, _jit_compiled_convolution_op, _jit_compiled_convolution_op, _jit_compiled_convolution_op, _jit_compiled_convolution_op while saving (showing 5 of 13). These functions will not be directly callable after loading.\n"
          ]
        },
        {
          "output_type": "stream",
          "name": "stdout",
          "text": [
            "\b\b\b\b\b\b\b\b\b\b\b\b\b\b\b\b\b\b\b\b\b\b\b\b\b\b\b\b\b\b\b\b\b\b\b\b\b\b\b\b\b\b\b\b\b\b\b\b\b\b\b\b\b\b\b\b\b\b\b\b\b\b\b\b\b\b\b\b\b\b\b\b\b\b\b\b\b\b\b\b\b\b\b\b\b\b\b\b\b\b\b\b\b\b\b\b\b\b\b\b\b\b\b\b\b\b\b\b\b\b\b\b\b\b\b\b\b\b\b\b\b\r210/210 [==============================] - 37s 175ms/step - loss: 0.0378 - precision: 0.9931 - accuracy: 0.9905 - recall: 0.9869 - val_loss: 0.3962 - val_precision: 0.9375 - val_accuracy: 0.9276 - val_recall: 0.9192\n",
            "Epoch 24/50\n",
            "210/210 [==============================] - ETA: 0s - loss: 0.0223 - precision: 0.9949 - accuracy: 0.9937 - recall: 0.9917"
          ]
        },
        {
          "output_type": "stream",
          "name": "stderr",
          "text": [
            "WARNING:absl:Found untraced functions such as _jit_compiled_convolution_op, _jit_compiled_convolution_op, _jit_compiled_convolution_op, _jit_compiled_convolution_op, _jit_compiled_convolution_op while saving (showing 5 of 13). These functions will not be directly callable after loading.\n"
          ]
        },
        {
          "output_type": "stream",
          "name": "stdout",
          "text": [
            "\b\b\b\b\b\b\b\b\b\b\b\b\b\b\b\b\b\b\b\b\b\b\b\b\b\b\b\b\b\b\b\b\b\b\b\b\b\b\b\b\b\b\b\b\b\b\b\b\b\b\b\b\b\b\b\b\b\b\b\b\b\b\b\b\b\b\b\b\b\b\b\b\b\b\b\b\b\b\b\b\b\b\b\b\b\b\b\b\b\b\b\b\b\b\b\b\b\b\b\b\b\b\b\b\b\b\b\b\b\b\b\b\b\b\b\b\b\b\b\b\b\r210/210 [==============================] - 36s 174ms/step - loss: 0.0223 - precision: 0.9949 - accuracy: 0.9937 - recall: 0.9917 - val_loss: 0.4064 - val_precision: 0.9310 - val_accuracy: 0.9109 - val_recall: 0.9025\n",
            "Epoch 25/50\n",
            "210/210 [==============================] - ETA: 0s - loss: 0.0464 - precision: 0.9904 - accuracy: 0.9881 - recall: 0.9854"
          ]
        },
        {
          "output_type": "stream",
          "name": "stderr",
          "text": [
            "WARNING:absl:Found untraced functions such as _jit_compiled_convolution_op, _jit_compiled_convolution_op, _jit_compiled_convolution_op, _jit_compiled_convolution_op, _jit_compiled_convolution_op while saving (showing 5 of 13). These functions will not be directly callable after loading.\n"
          ]
        },
        {
          "output_type": "stream",
          "name": "stdout",
          "text": [
            "\b\b\b\b\b\b\b\b\b\b\b\b\b\b\b\b\b\b\b\b\b\b\b\b\b\b\b\b\b\b\b\b\b\b\b\b\b\b\b\b\b\b\b\b\b\b\b\b\b\b\b\b\b\b\b\b\b\b\b\b\b\b\b\b\b\b\b\b\b\b\b\b\b\b\b\b\b\b\b\b\b\b\b\b\b\b\b\b\b\b\b\b\b\b\b\b\b\b\b\b\b\b\b\b\b\b\b\b\b\b\b\b\b\b\b\b\b\b\b\b\b\r210/210 [==============================] - 36s 172ms/step - loss: 0.0464 - precision: 0.9904 - accuracy: 0.9881 - recall: 0.9854 - val_loss: 0.3732 - val_precision: 0.9463 - val_accuracy: 0.9331 - val_recall: 0.9331\n",
            "Epoch 26/50\n",
            "210/210 [==============================] - ETA: 0s - loss: 0.0297 - precision: 0.9922 - accuracy: 0.9908 - recall: 0.9896"
          ]
        },
        {
          "output_type": "stream",
          "name": "stderr",
          "text": [
            "WARNING:absl:Found untraced functions such as _jit_compiled_convolution_op, _jit_compiled_convolution_op, _jit_compiled_convolution_op, _jit_compiled_convolution_op, _jit_compiled_convolution_op while saving (showing 5 of 13). These functions will not be directly callable after loading.\n"
          ]
        },
        {
          "output_type": "stream",
          "name": "stdout",
          "text": [
            "\b\b\b\b\b\b\b\b\b\b\b\b\b\b\b\b\b\b\b\b\b\b\b\b\b\b\b\b\b\b\b\b\b\b\b\b\b\b\b\b\b\b\b\b\b\b\b\b\b\b\b\b\b\b\b\b\b\b\b\b\b\b\b\b\b\b\b\b\b\b\b\b\b\b\b\b\b\b\b\b\b\b\b\b\b\b\b\b\b\b\b\b\b\b\b\b\b\b\b\b\b\b\b\b\b\b\b\b\b\b\b\b\b\b\b\b\b\b\b\b\b\r210/210 [==============================] - 37s 175ms/step - loss: 0.0297 - precision: 0.9922 - accuracy: 0.9908 - recall: 0.9896 - val_loss: 0.4119 - val_precision: 0.9398 - val_accuracy: 0.9276 - val_recall: 0.9136\n",
            "Epoch 27/50\n",
            "210/210 [==============================] - ETA: 0s - loss: 0.0182 - precision: 0.9970 - accuracy: 0.9952 - recall: 0.9943"
          ]
        },
        {
          "output_type": "stream",
          "name": "stderr",
          "text": [
            "WARNING:absl:Found untraced functions such as _jit_compiled_convolution_op, _jit_compiled_convolution_op, _jit_compiled_convolution_op, _jit_compiled_convolution_op, _jit_compiled_convolution_op while saving (showing 5 of 13). These functions will not be directly callable after loading.\n"
          ]
        },
        {
          "output_type": "stream",
          "name": "stdout",
          "text": [
            "\b\b\b\b\b\b\b\b\b\b\b\b\b\b\b\b\b\b\b\b\b\b\b\b\b\b\b\b\b\b\b\b\b\b\b\b\b\b\b\b\b\b\b\b\b\b\b\b\b\b\b\b\b\b\b\b\b\b\b\b\b\b\b\b\b\b\b\b\b\b\b\b\b\b\b\b\b\b\b\b\b\b\b\b\b\b\b\b\b\b\b\b\b\b\b\b\b\b\b\b\b\b\b\b\b\b\b\b\b\b\b\b\b\b\b\b\b\b\b\b\b\r210/210 [==============================] - 38s 179ms/step - loss: 0.0182 - precision: 0.9970 - accuracy: 0.9952 - recall: 0.9943 - val_loss: 0.5480 - val_precision: 0.9148 - val_accuracy: 0.8997 - val_recall: 0.8969\n",
            "Epoch 28/50\n",
            "210/210 [==============================] - ETA: 0s - loss: 0.0258 - precision: 0.9943 - accuracy: 0.9932 - recall: 0.9917"
          ]
        },
        {
          "output_type": "stream",
          "name": "stderr",
          "text": [
            "WARNING:absl:Found untraced functions such as _jit_compiled_convolution_op, _jit_compiled_convolution_op, _jit_compiled_convolution_op, _jit_compiled_convolution_op, _jit_compiled_convolution_op while saving (showing 5 of 13). These functions will not be directly callable after loading.\n"
          ]
        },
        {
          "output_type": "stream",
          "name": "stdout",
          "text": [
            "\b\b\b\b\b\b\b\b\b\b\b\b\b\b\b\b\b\b\b\b\b\b\b\b\b\b\b\b\b\b\b\b\b\b\b\b\b\b\b\b\b\b\b\b\b\b\b\b\b\b\b\b\b\b\b\b\b\b\b\b\b\b\b\b\b\b\b\b\b\b\b\b\b\b\b\b\b\b\b\b\b\b\b\b\b\b\b\b\b\b\b\b\b\b\b\b\b\b\b\b\b\b\b\b\b\b\b\b\b\b\b\b\b\b\b\b\b\b\b\b\b\r210/210 [==============================] - 37s 178ms/step - loss: 0.0258 - precision: 0.9943 - accuracy: 0.9932 - recall: 0.9917 - val_loss: 0.5564 - val_precision: 0.8994 - val_accuracy: 0.8858 - val_recall: 0.8719\n",
            "Epoch 29/50\n",
            "210/210 [==============================] - ETA: 0s - loss: 0.0462 - precision: 0.9880 - accuracy: 0.9848 - recall: 0.9824"
          ]
        },
        {
          "output_type": "stream",
          "name": "stderr",
          "text": [
            "WARNING:absl:Found untraced functions such as _jit_compiled_convolution_op, _jit_compiled_convolution_op, _jit_compiled_convolution_op, _jit_compiled_convolution_op, _jit_compiled_convolution_op while saving (showing 5 of 13). These functions will not be directly callable after loading.\n"
          ]
        },
        {
          "output_type": "stream",
          "name": "stdout",
          "text": [
            "\b\b\b\b\b\b\b\b\b\b\b\b\b\b\b\b\b\b\b\b\b\b\b\b\b\b\b\b\b\b\b\b\b\b\b\b\b\b\b\b\b\b\b\b\b\b\b\b\b\b\b\b\b\b\b\b\b\b\b\b\b\b\b\b\b\b\b\b\b\b\b\b\b\b\b\b\b\b\b\b\b\b\b\b\b\b\b\b\b\b\b\b\b\b\b\b\b\b\b\b\b\b\b\b\b\b\b\b\b\b\b\b\b\b\b\b\b\b\b\b\b\r210/210 [==============================] - 37s 174ms/step - loss: 0.0462 - precision: 0.9880 - accuracy: 0.9848 - recall: 0.9824 - val_loss: 0.4235 - val_precision: 0.9237 - val_accuracy: 0.9136 - val_recall: 0.9109\n",
            "Epoch 30/50\n",
            "210/210 [==============================] - ETA: 0s - loss: 0.0461 - precision: 0.9889 - accuracy: 0.9857 - recall: 0.9821"
          ]
        },
        {
          "output_type": "stream",
          "name": "stderr",
          "text": [
            "WARNING:absl:Found untraced functions such as _jit_compiled_convolution_op, _jit_compiled_convolution_op, _jit_compiled_convolution_op, _jit_compiled_convolution_op, _jit_compiled_convolution_op while saving (showing 5 of 13). These functions will not be directly callable after loading.\n"
          ]
        },
        {
          "output_type": "stream",
          "name": "stdout",
          "text": [
            "\b\b\b\b\b\b\b\b\b\b\b\b\b\b\b\b\b\b\b\b\b\b\b\b\b\b\b\b\b\b\b\b\b\b\b\b\b\b\b\b\b\b\b\b\b\b\b\b\b\b\b\b\b\b\b\b\b\b\b\b\b\b\b\b\b\b\b\b\b\b\b\b\b\b\b\b\b\b\b\b\b\b\b\b\b\b\b\b\b\b\b\b\b\b\b\b\b\b\b\b\b\b\b\b\b\b\b\b\b\b\b\b\b\b\b\b\b\b\b\b\b\r210/210 [==============================] - 37s 176ms/step - loss: 0.0461 - precision: 0.9889 - accuracy: 0.9857 - recall: 0.9821 - val_loss: 0.5008 - val_precision: 0.9242 - val_accuracy: 0.9164 - val_recall: 0.9164\n",
            "Epoch 31/50\n",
            "210/210 [==============================] - ETA: 0s - loss: 0.0392 - precision: 0.9911 - accuracy: 0.9896 - recall: 0.9890"
          ]
        },
        {
          "output_type": "stream",
          "name": "stderr",
          "text": [
            "WARNING:absl:Found untraced functions such as _jit_compiled_convolution_op, _jit_compiled_convolution_op, _jit_compiled_convolution_op, _jit_compiled_convolution_op, _jit_compiled_convolution_op while saving (showing 5 of 13). These functions will not be directly callable after loading.\n"
          ]
        },
        {
          "output_type": "stream",
          "name": "stdout",
          "text": [
            "\b\b\b\b\b\b\b\b\b\b\b\b\b\b\b\b\b\b\b\b\b\b\b\b\b\b\b\b\b\b\b\b\b\b\b\b\b\b\b\b\b\b\b\b\b\b\b\b\b\b\b\b\b\b\b\b\b\b\b\b\b\b\b\b\b\b\b\b\b\b\b\b\b\b\b\b\b\b\b\b\b\b\b\b\b\b\b\b\b\b\b\b\b\b\b\b\b\b\b\b\b\b\b\b\b\b\b\b\b\b\b\b\b\b\b\b\b\b\b\b\b\r210/210 [==============================] - 36s 171ms/step - loss: 0.0392 - precision: 0.9911 - accuracy: 0.9896 - recall: 0.9890 - val_loss: 0.4481 - val_precision: 0.9437 - val_accuracy: 0.9359 - val_recall: 0.9331\n",
            "Epoch 32/50\n",
            "210/210 [==============================] - ETA: 0s - loss: 0.0258 - precision: 0.9946 - accuracy: 0.9932 - recall: 0.9926"
          ]
        },
        {
          "output_type": "stream",
          "name": "stderr",
          "text": [
            "WARNING:absl:Found untraced functions such as _jit_compiled_convolution_op, _jit_compiled_convolution_op, _jit_compiled_convolution_op, _jit_compiled_convolution_op, _jit_compiled_convolution_op while saving (showing 5 of 13). These functions will not be directly callable after loading.\n"
          ]
        },
        {
          "output_type": "stream",
          "name": "stdout",
          "text": [
            "\b\b\b\b\b\b\b\b\b\b\b\b\b\b\b\b\b\b\b\b\b\b\b\b\b\b\b\b\b\b\b\b\b\b\b\b\b\b\b\b\b\b\b\b\b\b\b\b\b\b\b\b\b\b\b\b\b\b\b\b\b\b\b\b\b\b\b\b\b\b\b\b\b\b\b\b\b\b\b\b\b\b\b\b\b\b\b\b\b\b\b\b\b\b\b\b\b\b\b\b\b\b\b\b\b\b\b\b\b\b\b\b\b\b\b\b\b\b\b\b\b\r210/210 [==============================] - 37s 176ms/step - loss: 0.0258 - precision: 0.9946 - accuracy: 0.9932 - recall: 0.9926 - val_loss: 0.4771 - val_precision: 0.9298 - val_accuracy: 0.9248 - val_recall: 0.9220\n",
            "Epoch 33/50\n",
            "210/210 [==============================] - ETA: 0s - loss: 0.0192 - precision: 0.9967 - accuracy: 0.9958 - recall: 0.9952"
          ]
        },
        {
          "output_type": "stream",
          "name": "stderr",
          "text": [
            "WARNING:absl:Found untraced functions such as _jit_compiled_convolution_op, _jit_compiled_convolution_op, _jit_compiled_convolution_op, _jit_compiled_convolution_op, _jit_compiled_convolution_op while saving (showing 5 of 13). These functions will not be directly callable after loading.\n"
          ]
        },
        {
          "output_type": "stream",
          "name": "stdout",
          "text": [
            "\b\b\b\b\b\b\b\b\b\b\b\b\b\b\b\b\b\b\b\b\b\b\b\b\b\b\b\b\b\b\b\b\b\b\b\b\b\b\b\b\b\b\b\b\b\b\b\b\b\b\b\b\b\b\b\b\b\b\b\b\b\b\b\b\b\b\b\b\b\b\b\b\b\b\b\b\b\b\b\b\b\b\b\b\b\b\b\b\b\b\b\b\b\b\b\b\b\b\b\b\b\b\b\b\b\b\b\b\b\b\b\b\b\b\b\b\b\b\b\b\b\r210/210 [==============================] - 37s 175ms/step - loss: 0.0192 - precision: 0.9967 - accuracy: 0.9958 - recall: 0.9952 - val_loss: 0.4682 - val_precision: 0.9407 - val_accuracy: 0.9276 - val_recall: 0.9276\n",
            "Epoch 34/50\n",
            "210/210 [==============================] - ETA: 0s - loss: 0.0266 - precision: 0.9908 - accuracy: 0.9905 - recall: 0.9896"
          ]
        },
        {
          "output_type": "stream",
          "name": "stderr",
          "text": [
            "WARNING:absl:Found untraced functions such as _jit_compiled_convolution_op, _jit_compiled_convolution_op, _jit_compiled_convolution_op, _jit_compiled_convolution_op, _jit_compiled_convolution_op while saving (showing 5 of 13). These functions will not be directly callable after loading.\n"
          ]
        },
        {
          "output_type": "stream",
          "name": "stdout",
          "text": [
            "\b\b\b\b\b\b\b\b\b\b\b\b\b\b\b\b\b\b\b\b\b\b\b\b\b\b\b\b\b\b\b\b\b\b\b\b\b\b\b\b\b\b\b\b\b\b\b\b\b\b\b\b\b\b\b\b\b\b\b\b\b\b\b\b\b\b\b\b\b\b\b\b\b\b\b\b\b\b\b\b\b\b\b\b\b\b\b\b\b\b\b\b\b\b\b\b\b\b\b\b\b\b\b\b\b\b\b\b\b\b\b\b\b\b\b\b\b\b\b\b\b\r210/210 [==============================] - 36s 169ms/step - loss: 0.0266 - precision: 0.9908 - accuracy: 0.9905 - recall: 0.9896 - val_loss: 0.4806 - val_precision: 0.9216 - val_accuracy: 0.9164 - val_recall: 0.9164\n",
            "Epoch 35/50\n",
            "210/210 [==============================] - ETA: 0s - loss: 0.0171 - precision: 0.9949 - accuracy: 0.9943 - recall: 0.9937"
          ]
        },
        {
          "output_type": "stream",
          "name": "stderr",
          "text": [
            "WARNING:absl:Found untraced functions such as _jit_compiled_convolution_op, _jit_compiled_convolution_op, _jit_compiled_convolution_op, _jit_compiled_convolution_op, _jit_compiled_convolution_op while saving (showing 5 of 13). These functions will not be directly callable after loading.\n"
          ]
        },
        {
          "output_type": "stream",
          "name": "stdout",
          "text": [
            "\b\b\b\b\b\b\b\b\b\b\b\b\b\b\b\b\b\b\b\b\b\b\b\b\b\b\b\b\b\b\b\b\b\b\b\b\b\b\b\b\b\b\b\b\b\b\b\b\b\b\b\b\b\b\b\b\b\b\b\b\b\b\b\b\b\b\b\b\b\b\b\b\b\b\b\b\b\b\b\b\b\b\b\b\b\b\b\b\b\b\b\b\b\b\b\b\b\b\b\b\b\b\b\b\b\b\b\b\b\b\b\b\b\b\b\b\b\b\b\b\b\r210/210 [==============================] - 37s 175ms/step - loss: 0.0171 - precision: 0.9949 - accuracy: 0.9943 - recall: 0.9937 - val_loss: 0.5225 - val_precision: 0.9371 - val_accuracy: 0.9220 - val_recall: 0.9136\n",
            "Epoch 36/50\n",
            "210/210 [==============================] - ETA: 0s - loss: 0.0266 - precision: 0.9940 - accuracy: 0.9937 - recall: 0.9926"
          ]
        },
        {
          "output_type": "stream",
          "name": "stderr",
          "text": [
            "WARNING:absl:Found untraced functions such as _jit_compiled_convolution_op, _jit_compiled_convolution_op, _jit_compiled_convolution_op, _jit_compiled_convolution_op, _jit_compiled_convolution_op while saving (showing 5 of 13). These functions will not be directly callable after loading.\n"
          ]
        },
        {
          "output_type": "stream",
          "name": "stdout",
          "text": [
            "\b\b\b\b\b\b\b\b\b\b\b\b\b\b\b\b\b\b\b\b\b\b\b\b\b\b\b\b\b\b\b\b\b\b\b\b\b\b\b\b\b\b\b\b\b\b\b\b\b\b\b\b\b\b\b\b\b\b\b\b\b\b\b\b\b\b\b\b\b\b\b\b\b\b\b\b\b\b\b\b\b\b\b\b\b\b\b\b\b\b\b\b\b\b\b\b\b\b\b\b\b\b\b\b\b\b\b\b\b\b\b\b\b\b\b\b\b\b\b\b\b\r210/210 [==============================] - 38s 181ms/step - loss: 0.0266 - precision: 0.9940 - accuracy: 0.9937 - recall: 0.9926 - val_loss: 0.4903 - val_precision: 0.9352 - val_accuracy: 0.9276 - val_recall: 0.9248\n",
            "Epoch 37/50\n",
            "210/210 [==============================] - ETA: 0s - loss: 0.0229 - precision: 0.9940 - accuracy: 0.9929 - recall: 0.9926"
          ]
        },
        {
          "output_type": "stream",
          "name": "stderr",
          "text": [
            "WARNING:absl:Found untraced functions such as _jit_compiled_convolution_op, _jit_compiled_convolution_op, _jit_compiled_convolution_op, _jit_compiled_convolution_op, _jit_compiled_convolution_op while saving (showing 5 of 13). These functions will not be directly callable after loading.\n"
          ]
        },
        {
          "output_type": "stream",
          "name": "stdout",
          "text": [
            "\b\b\b\b\b\b\b\b\b\b\b\b\b\b\b\b\b\b\b\b\b\b\b\b\b\b\b\b\b\b\b\b\b\b\b\b\b\b\b\b\b\b\b\b\b\b\b\b\b\b\b\b\b\b\b\b\b\b\b\b\b\b\b\b\b\b\b\b\b\b\b\b\b\b\b\b\b\b\b\b\b\b\b\b\b\b\b\b\b\b\b\b\b\b\b\b\b\b\b\b\b\b\b\b\b\b\b\b\b\b\b\b\b\b\b\b\b\b\b\b\b\r210/210 [==============================] - 36s 172ms/step - loss: 0.0229 - precision: 0.9940 - accuracy: 0.9929 - recall: 0.9926 - val_loss: 0.4860 - val_precision: 0.9207 - val_accuracy: 0.9136 - val_recall: 0.9053\n",
            "Epoch 38/50\n",
            "210/210 [==============================] - ETA: 0s - loss: 0.0324 - precision: 0.9928 - accuracy: 0.9920 - recall: 0.9914"
          ]
        },
        {
          "output_type": "stream",
          "name": "stderr",
          "text": [
            "WARNING:absl:Found untraced functions such as _jit_compiled_convolution_op, _jit_compiled_convolution_op, _jit_compiled_convolution_op, _jit_compiled_convolution_op, _jit_compiled_convolution_op while saving (showing 5 of 13). These functions will not be directly callable after loading.\n"
          ]
        },
        {
          "output_type": "stream",
          "name": "stdout",
          "text": [
            "\b\b\b\b\b\b\b\b\b\b\b\b\b\b\b\b\b\b\b\b\b\b\b\b\b\b\b\b\b\b\b\b\b\b\b\b\b\b\b\b\b\b\b\b\b\b\b\b\b\b\b\b\b\b\b\b\b\b\b\b\b\b\b\b\b\b\b\b\b\b\b\b\b\b\b\b\b\b\b\b\b\b\b\b\b\b\b\b\b\b\b\b\b\b\b\b\b\b\b\b\b\b\b\b\b\b\b\b\b\b\b\b\b\b\b\b\b\b\b\b\b\r210/210 [==============================] - 37s 174ms/step - loss: 0.0324 - precision: 0.9928 - accuracy: 0.9920 - recall: 0.9914 - val_loss: 0.3543 - val_precision: 0.9516 - val_accuracy: 0.9387 - val_recall: 0.9304\n",
            "Epoch 39/50\n",
            "210/210 [==============================] - ETA: 0s - loss: 0.0339 - precision: 0.9919 - accuracy: 0.9908 - recall: 0.9890"
          ]
        },
        {
          "output_type": "stream",
          "name": "stderr",
          "text": [
            "WARNING:absl:Found untraced functions such as _jit_compiled_convolution_op, _jit_compiled_convolution_op, _jit_compiled_convolution_op, _jit_compiled_convolution_op, _jit_compiled_convolution_op while saving (showing 5 of 13). These functions will not be directly callable after loading.\n"
          ]
        },
        {
          "output_type": "stream",
          "name": "stdout",
          "text": [
            "\b\b\b\b\b\b\b\b\b\b\b\b\b\b\b\b\b\b\b\b\b\b\b\b\b\b\b\b\b\b\b\b\b\b\b\b\b\b\b\b\b\b\b\b\b\b\b\b\b\b\b\b\b\b\b\b\b\b\b\b\b\b\b\b\b\b\b\b\b\b\b\b\b\b\b\b\b\b\b\b\b\b\b\b\b\b\b\b\b\b\b\b\b\b\b\b\b\b\b\b\b\b\b\b\b\b\b\b\b\b\b\b\b\b\b\b\b\b\b\b\b\r210/210 [==============================] - 36s 173ms/step - loss: 0.0339 - precision: 0.9919 - accuracy: 0.9908 - recall: 0.9890 - val_loss: 0.4827 - val_precision: 0.9300 - val_accuracy: 0.9276 - val_recall: 0.9248\n",
            "Epoch 40/50\n",
            "210/210 [==============================] - ETA: 0s - loss: 0.0359 - precision: 0.9910 - accuracy: 0.9890 - recall: 0.9878"
          ]
        },
        {
          "output_type": "stream",
          "name": "stderr",
          "text": [
            "WARNING:absl:Found untraced functions such as _jit_compiled_convolution_op, _jit_compiled_convolution_op, _jit_compiled_convolution_op, _jit_compiled_convolution_op, _jit_compiled_convolution_op while saving (showing 5 of 13). These functions will not be directly callable after loading.\n"
          ]
        },
        {
          "output_type": "stream",
          "name": "stdout",
          "text": [
            "\b\b\b\b\b\b\b\b\b\b\b\b\b\b\b\b\b\b\b\b\b\b\b\b\b\b\b\b\b\b\b\b\b\b\b\b\b\b\b\b\b\b\b\b\b\b\b\b\b\b\b\b\b\b\b\b\b\b\b\b\b\b\b\b\b\b\b\b\b\b\b\b\b\b\b\b\b\b\b\b\b\b\b\b\b\b\b\b\b\b\b\b\b\b\b\b\b\b\b\b\b\b\b\b\b\b\b\b\b\b\b\b\b\b\b\b\b\b\b\b\b\r210/210 [==============================] - 36s 172ms/step - loss: 0.0359 - precision: 0.9910 - accuracy: 0.9890 - recall: 0.9878 - val_loss: 0.5104 - val_precision: 0.9263 - val_accuracy: 0.9220 - val_recall: 0.9109\n",
            "Epoch 41/50\n",
            "210/210 [==============================] - ETA: 0s - loss: 0.0222 - precision: 0.9943 - accuracy: 0.9935 - recall: 0.9932"
          ]
        },
        {
          "output_type": "stream",
          "name": "stderr",
          "text": [
            "WARNING:absl:Found untraced functions such as _jit_compiled_convolution_op, _jit_compiled_convolution_op, _jit_compiled_convolution_op, _jit_compiled_convolution_op, _jit_compiled_convolution_op while saving (showing 5 of 13). These functions will not be directly callable after loading.\n"
          ]
        },
        {
          "output_type": "stream",
          "name": "stdout",
          "text": [
            "\b\b\b\b\b\b\b\b\b\b\b\b\b\b\b\b\b\b\b\b\b\b\b\b\b\b\b\b\b\b\b\b\b\b\b\b\b\b\b\b\b\b\b\b\b\b\b\b\b\b\b\b\b\b\b\b\b\b\b\b\b\b\b\b\b\b\b\b\b\b\b\b\b\b\b\b\b\b\b\b\b\b\b\b\b\b\b\b\b\b\b\b\b\b\b\b\b\b\b\b\b\b\b\b\b\b\b\b\b\b\b\b\b\b\b\b\b\b\b\b\b\r210/210 [==============================] - 35s 168ms/step - loss: 0.0222 - precision: 0.9943 - accuracy: 0.9935 - recall: 0.9932 - val_loss: 0.5070 - val_precision: 0.9298 - val_accuracy: 0.9220 - val_recall: 0.9220\n",
            "Epoch 42/50\n",
            "210/210 [==============================] - ETA: 0s - loss: 0.0121 - precision: 0.9979 - accuracy: 0.9970 - recall: 0.9964"
          ]
        },
        {
          "output_type": "stream",
          "name": "stderr",
          "text": [
            "WARNING:absl:Found untraced functions such as _jit_compiled_convolution_op, _jit_compiled_convolution_op, _jit_compiled_convolution_op, _jit_compiled_convolution_op, _jit_compiled_convolution_op while saving (showing 5 of 13). These functions will not be directly callable after loading.\n"
          ]
        },
        {
          "output_type": "stream",
          "name": "stdout",
          "text": [
            "\b\b\b\b\b\b\b\b\b\b\b\b\b\b\b\b\b\b\b\b\b\b\b\b\b\b\b\b\b\b\b\b\b\b\b\b\b\b\b\b\b\b\b\b\b\b\b\b\b\b\b\b\b\b\b\b\b\b\b\b\b\b\b\b\b\b\b\b\b\b\b\b\b\b\b\b\b\b\b\b\b\b\b\b\b\b\b\b\b\b\b\b\b\b\b\b\b\b\b\b\b\b\b\b\b\b\b\b\b\b\b\b\b\b\b\b\b\b\b\b\b\r210/210 [==============================] - 37s 174ms/step - loss: 0.0121 - precision: 0.9979 - accuracy: 0.9970 - recall: 0.9964 - val_loss: 0.4664 - val_precision: 0.9246 - val_accuracy: 0.9220 - val_recall: 0.9220\n",
            "Epoch 43/50\n",
            "210/210 [==============================] - ETA: 0s - loss: 0.0192 - precision: 0.9943 - accuracy: 0.9926 - recall: 0.9917"
          ]
        },
        {
          "output_type": "stream",
          "name": "stderr",
          "text": [
            "WARNING:absl:Found untraced functions such as _jit_compiled_convolution_op, _jit_compiled_convolution_op, _jit_compiled_convolution_op, _jit_compiled_convolution_op, _jit_compiled_convolution_op while saving (showing 5 of 13). These functions will not be directly callable after loading.\n"
          ]
        },
        {
          "output_type": "stream",
          "name": "stdout",
          "text": [
            "\b\b\b\b\b\b\b\b\b\b\b\b\b\b\b\b\b\b\b\b\b\b\b\b\b\b\b\b\b\b\b\b\b\b\b\b\b\b\b\b\b\b\b\b\b\b\b\b\b\b\b\b\b\b\b\b\b\b\b\b\b\b\b\b\b\b\b\b\b\b\b\b\b\b\b\b\b\b\b\b\b\b\b\b\b\b\b\b\b\b\b\b\b\b\b\b\b\b\b\b\b\b\b\b\b\b\b\b\b\b\b\b\b\b\b\b\b\b\b\b\b\r210/210 [==============================] - 37s 174ms/step - loss: 0.0192 - precision: 0.9943 - accuracy: 0.9926 - recall: 0.9917 - val_loss: 0.3767 - val_precision: 0.9296 - val_accuracy: 0.9248 - val_recall: 0.9192\n",
            "Epoch 44/50\n",
            "210/210 [==============================] - ETA: 0s - loss: 0.0328 - precision: 0.9911 - accuracy: 0.9899 - recall: 0.9893"
          ]
        },
        {
          "output_type": "stream",
          "name": "stderr",
          "text": [
            "WARNING:absl:Found untraced functions such as _jit_compiled_convolution_op, _jit_compiled_convolution_op, _jit_compiled_convolution_op, _jit_compiled_convolution_op, _jit_compiled_convolution_op while saving (showing 5 of 13). These functions will not be directly callable after loading.\n"
          ]
        },
        {
          "output_type": "stream",
          "name": "stdout",
          "text": [
            "\b\b\b\b\b\b\b\b\b\b\b\b\b\b\b\b\b\b\b\b\b\b\b\b\b\b\b\b\b\b\b\b\b\b\b\b\b\b\b\b\b\b\b\b\b\b\b\b\b\b\b\b\b\b\b\b\b\b\b\b\b\b\b\b\b\b\b\b\b\b\b\b\b\b\b\b\b\b\b\b\b\b\b\b\b\b\b\b\b\b\b\b\b\b\b\b\b\b\b\b\b\b\b\b\b\b\b\b\b\b\b\b\b\b\b\b\b\b\b\b\b\r210/210 [==============================] - 36s 171ms/step - loss: 0.0328 - precision: 0.9911 - accuracy: 0.9899 - recall: 0.9893 - val_loss: 0.6383 - val_precision: 0.9022 - val_accuracy: 0.8997 - val_recall: 0.8997\n",
            "Epoch 45/50\n",
            "210/210 [==============================] - ETA: 0s - loss: 0.0487 - precision: 0.9890 - accuracy: 0.9872 - recall: 0.9860"
          ]
        },
        {
          "output_type": "stream",
          "name": "stderr",
          "text": [
            "WARNING:absl:Found untraced functions such as _jit_compiled_convolution_op, _jit_compiled_convolution_op, _jit_compiled_convolution_op, _jit_compiled_convolution_op, _jit_compiled_convolution_op while saving (showing 5 of 13). These functions will not be directly callable after loading.\n"
          ]
        },
        {
          "output_type": "stream",
          "name": "stdout",
          "text": [
            "\b\b\b\b\b\b\b\b\b\b\b\b\b\b\b\b\b\b\b\b\b\b\b\b\b\b\b\b\b\b\b\b\b\b\b\b\b\b\b\b\b\b\b\b\b\b\b\b\b\b\b\b\b\b\b\b\b\b\b\b\b\b\b\b\b\b\b\b\b\b\b\b\b\b\b\b\b\b\b\b\b\b\b\b\b\b\b\b\b\b\b\b\b\b\b\b\b\b\b\b\b\b\b\b\b\b\b\b\b\b\b\b\b\b\b\b\b\b\b\b\b\r210/210 [==============================] - 36s 174ms/step - loss: 0.0487 - precision: 0.9890 - accuracy: 0.9872 - recall: 0.9860 - val_loss: 0.7208 - val_precision: 0.9153 - val_accuracy: 0.9025 - val_recall: 0.9025\n",
            "Epoch 46/50\n",
            "210/210 [==============================] - ETA: 0s - loss: 0.0253 - precision: 0.9946 - accuracy: 0.9935 - recall: 0.9935"
          ]
        },
        {
          "output_type": "stream",
          "name": "stderr",
          "text": [
            "WARNING:absl:Found untraced functions such as _jit_compiled_convolution_op, _jit_compiled_convolution_op, _jit_compiled_convolution_op, _jit_compiled_convolution_op, _jit_compiled_convolution_op while saving (showing 5 of 13). These functions will not be directly callable after loading.\n"
          ]
        },
        {
          "output_type": "stream",
          "name": "stdout",
          "text": [
            "\b\b\b\b\b\b\b\b\b\b\b\b\b\b\b\b\b\b\b\b\b\b\b\b\b\b\b\b\b\b\b\b\b\b\b\b\b\b\b\b\b\b\b\b\b\b\b\b\b\b\b\b\b\b\b\b\b\b\b\b\b\b\b\b\b\b\b\b\b\b\b\b\b\b\b\b\b\b\b\b\b\b\b\b\b\b\b\b\b\b\b\b\b\b\b\b\b\b\b\b\b\b\b\b\b\b\b\b\b\b\b\b\b\b\b\b\b\b\b\b\b\r210/210 [==============================] - 36s 172ms/step - loss: 0.0253 - precision: 0.9946 - accuracy: 0.9935 - recall: 0.9935 - val_loss: 0.4668 - val_precision: 0.9437 - val_accuracy: 0.9359 - val_recall: 0.9331\n",
            "Epoch 47/50\n",
            "210/210 [==============================] - ETA: 0s - loss: 0.0054 - precision: 0.9994 - accuracy: 0.9988 - recall: 0.9988"
          ]
        },
        {
          "output_type": "stream",
          "name": "stderr",
          "text": [
            "WARNING:absl:Found untraced functions such as _jit_compiled_convolution_op, _jit_compiled_convolution_op, _jit_compiled_convolution_op, _jit_compiled_convolution_op, _jit_compiled_convolution_op while saving (showing 5 of 13). These functions will not be directly callable after loading.\n"
          ]
        },
        {
          "output_type": "stream",
          "name": "stdout",
          "text": [
            "\b\b\b\b\b\b\b\b\b\b\b\b\b\b\b\b\b\b\b\b\b\b\b\b\b\b\b\b\b\b\b\b\b\b\b\b\b\b\b\b\b\b\b\b\b\b\b\b\b\b\b\b\b\b\b\b\b\b\b\b\b\b\b\b\b\b\b\b\b\b\b\b\b\b\b\b\b\b\b\b\b\b\b\b\b\b\b\b\b\b\b\b\b\b\b\b\b\b\b\b\b\b\b\b\b\b\b\b\b\b\b\b\b\b\b\b\b\b\b\b\b\r210/210 [==============================] - 37s 174ms/step - loss: 0.0054 - precision: 0.9994 - accuracy: 0.9988 - recall: 0.9988 - val_loss: 0.4288 - val_precision: 0.9380 - val_accuracy: 0.9304 - val_recall: 0.9276\n",
            "Epoch 48/50\n",
            "210/210 [==============================] - ETA: 0s - loss: 0.0059 - precision: 0.9982 - accuracy: 0.9979 - recall: 0.9976"
          ]
        },
        {
          "output_type": "stream",
          "name": "stderr",
          "text": [
            "WARNING:absl:Found untraced functions such as _jit_compiled_convolution_op, _jit_compiled_convolution_op, _jit_compiled_convolution_op, _jit_compiled_convolution_op, _jit_compiled_convolution_op while saving (showing 5 of 13). These functions will not be directly callable after loading.\n"
          ]
        },
        {
          "output_type": "stream",
          "name": "stdout",
          "text": [
            "\b\b\b\b\b\b\b\b\b\b\b\b\b\b\b\b\b\b\b\b\b\b\b\b\b\b\b\b\b\b\b\b\b\b\b\b\b\b\b\b\b\b\b\b\b\b\b\b\b\b\b\b\b\b\b\b\b\b\b\b\b\b\b\b\b\b\b\b\b\b\b\b\b\b\b\b\b\b\b\b\b\b\b\b\b\b\b\b\b\b\b\b\b\b\b\b\b\b\b\b\b\b\b\b\b\b\b\b\b\b\b\b\b\b\b\b\b\b\b\b\b\r210/210 [==============================] - 37s 174ms/step - loss: 0.0059 - precision: 0.9982 - accuracy: 0.9979 - recall: 0.9976 - val_loss: 0.3647 - val_precision: 0.9358 - val_accuracy: 0.9331 - val_recall: 0.9331\n",
            "Epoch 49/50\n",
            "210/210 [==============================] - ETA: 0s - loss: 0.0111 - precision: 0.9967 - accuracy: 0.9964 - recall: 0.9961"
          ]
        },
        {
          "output_type": "stream",
          "name": "stderr",
          "text": [
            "WARNING:absl:Found untraced functions such as _jit_compiled_convolution_op, _jit_compiled_convolution_op, _jit_compiled_convolution_op, _jit_compiled_convolution_op, _jit_compiled_convolution_op while saving (showing 5 of 13). These functions will not be directly callable after loading.\n"
          ]
        },
        {
          "output_type": "stream",
          "name": "stdout",
          "text": [
            "\b\b\b\b\b\b\b\b\b\b\b\b\b\b\b\b\b\b\b\b\b\b\b\b\b\b\b\b\b\b\b\b\b\b\b\b\b\b\b\b\b\b\b\b\b\b\b\b\b\b\b\b\b\b\b\b\b\b\b\b\b\b\b\b\b\b\b\b\b\b\b\b\b\b\b\b\b\b\b\b\b\b\b\b\b\b\b\b\b\b\b\b\b\b\b\b\b\b\b\b\b\b\b\b\b\b\b\b\b\b\b\b\b\b\b\b\b\b\b\b\b\r210/210 [==============================] - 37s 176ms/step - loss: 0.0111 - precision: 0.9967 - accuracy: 0.9964 - recall: 0.9961 - val_loss: 0.4544 - val_precision: 0.9384 - val_accuracy: 0.9331 - val_recall: 0.9331\n",
            "Epoch 50/50\n",
            "210/210 [==============================] - ETA: 0s - loss: 0.0276 - precision: 0.9925 - accuracy: 0.9914 - recall: 0.9911"
          ]
        },
        {
          "output_type": "stream",
          "name": "stderr",
          "text": [
            "WARNING:absl:Found untraced functions such as _jit_compiled_convolution_op, _jit_compiled_convolution_op, _jit_compiled_convolution_op, _jit_compiled_convolution_op, _jit_compiled_convolution_op while saving (showing 5 of 13). These functions will not be directly callable after loading.\n"
          ]
        },
        {
          "output_type": "stream",
          "name": "stdout",
          "text": [
            "\b\b\b\b\b\b\b\b\b\b\b\b\b\b\b\b\b\b\b\b\b\b\b\b\b\b\b\b\b\b\b\b\b\b\b\b\b\b\b\b\b\b\b\b\b\b\b\b\b\b\b\b\b\b\b\b\b\b\b\b\b\b\b\b\b\b\b\b\b\b\b\b\b\b\b\b\b\b\b\b\b\b\b\b\b\b\b\b\b\b\b\b\b\b\b\b\b\b\b\b\b\b\b\b\b\b\b\b\b\b\b\b\b\b\b\b\b\b\b\b\b\r210/210 [==============================] - 49s 234ms/step - loss: 0.0276 - precision: 0.9925 - accuracy: 0.9914 - recall: 0.9911 - val_loss: 0.6419 - val_precision: 0.9270 - val_accuracy: 0.9220 - val_recall: 0.9192\n"
          ]
        }
      ],
      "source": [
        "# Train the model\n",
        "r = model.fit(\n",
        "    training_set,\n",
        "    validation_data=test_set,\n",
        "    epochs=50,\n",
        "    steps_per_epoch=len(training_set),\n",
        "    validation_steps=len(test_set),\n",
        "    callbacks=callbacks\n",
        ")"
      ]
    },
    {
      "cell_type": "code",
      "execution_count": 21,
      "metadata": {
        "id": "u0mHdtxJU5dI",
        "colab": {
          "base_uri": "https://localhost:8080/",
          "height": 1000
        },
        "outputId": "6a9ccb62-3e6d-479c-9617-bf2b32bb7029"
      },
      "outputs": [
        {
          "output_type": "display_data",
          "data": {
            "text/plain": [
              "<Figure size 640x480 with 1 Axes>"
            ],
            "image/png": "[encoded data removed]"
          },
          "metadata": {}
        },
        {
          "output_type": "stream",
          "name": "stdout",
          "text": [
            "\n"
          ]
        },
        {
          "output_type": "display_data",
          "data": {
            "text/plain": [
              "<Figure size 640x480 with 1 Axes>"
            ],
            "image/png": "[encoded data removed]"
          },
          "metadata": {}
        },
        {
          "output_type": "stream",
          "name": "stdout",
          "text": [
            "\n"
          ]
        },
        {
          "output_type": "display_data",
          "data": {
            "text/plain": [
              "<Figure size 640x480 with 1 Axes>"
            ],
            "image/png": "[encoded data removed]"
          },
          "metadata": {}
        },
        {
          "output_type": "display_data",
          "data": {
            "text/plain": [
              "<Figure size 640x480 with 0 Axes>"
            ]
          },
          "metadata": {}
        }
      ],
      "source": [
        "#Visualizing loss of test and train\n",
        "plt.plot(r.history['loss'], label='train loss')\n",
        "plt.plot(r.history['val_loss'], label='val loss')\n",
        "plt.legend()\n",
        "plt.show()\n",
        "plt.savefig('LossVal_loss')\n",
        "print()\n",
        "# plot the accuracy\n",
        "plt.plot(r.history['accuracy'], label='train acc')\n",
        "plt.plot(r.history['val_accuracy'], label='val acc')\n",
        "plt.legend()\n",
        "plt.show()\n",
        "plt.savefig('AccVal_acc')\n",
        "print()\n",
        "plt.plot(r.history['precision'], label='Precision')\n",
        "plt.plot(r.history['recall'], label='Recall')\n",
        "plt.legend()\n",
        "plt.show()\n",
        "plt.savefig('prec_rec')\n"
      ]
    },
    {
      "cell_type": "code",
      "execution_count": 22,
      "metadata": {
        "id": "2z0b9TNRU4Qh"
      },
      "outputs": [],
      "source": [
        "#saving model\n",
        "from tensorflow.keras.models import load_model\n",
        "model_path = '/content/drive/MyDrive/i2v/vgg16/vgg16_model.h5'\n",
        "# Save the model\n",
        "model.save(model_path)"
      ]
    },
    {
      "cell_type": "code",
      "execution_count": 23,
      "metadata": {
        "id": "QbvHfLpiYmQp",
        "colab": {
          "base_uri": "https://localhost:8080/"
        },
        "outputId": "bd102664-8e6a-44b8-8950-aeee612c2a5f"
      },
      "outputs": [
        {
          "output_type": "stream",
          "name": "stdout",
          "text": [
            "210/210 [==============================] - 36s 171ms/step - loss: 0.0393 - precision: 0.9919 - accuracy: 0.9890 - recall: 0.9884\n"
          ]
        }
      ],
      "source": [
        "#evaluating model with respect to train\n",
        "test_loss, test_accuracy, test_precision, test_recall = model.evaluate(training_set)"
      ]
    },
    {
      "cell_type": "code",
      "execution_count": 24,
      "metadata": {
        "id": "kMVBX0KaYmNZ",
        "colab": {
          "base_uri": "https://localhost:8080/"
        },
        "outputId": "039abe01-1724-46c1-9aed-09dcaa70f775"
      },
      "outputs": [
        {
          "output_type": "stream",
          "name": "stdout",
          "text": [
            "23/23 [==============================] - 1s 51ms/step - loss: 0.6419 - precision: 0.9270 - accuracy: 0.9220 - recall: 0.9192\n"
          ]
        }
      ],
      "source": [
        "#evaluating model with respect to test\n",
        "val_loss, val_accuracy, val_precision, val_recall = model.evaluate(test_set)"
      ]
    },
    {
      "cell_type": "code",
      "execution_count": 25,
      "metadata": {
        "id": "Zr5G3huuYmJV",
        "colab": {
          "base_uri": "https://localhost:8080/"
        },
        "outputId": "c5b7f021-2ec4-44ba-c159-513254db3bbd"
      },
      "outputs": [
        {
          "output_type": "stream",
          "name": "stdout",
          "text": [
            "210/210 [==============================] - 35s 163ms/step\n"
          ]
        }
      ],
      "source": [
        "pred_X = model.predict(training_set)"
      ]
    },
    {
      "cell_type": "code",
      "execution_count": 26,
      "metadata": {
        "id": "sa1zPjZRYmGL",
        "colab": {
          "base_uri": "https://localhost:8080/"
        },
        "outputId": "c82936ac-493a-4022-ca82-64bc833d9af1"
      },
      "outputs": [
        {
          "output_type": "stream",
          "name": "stdout",
          "text": [
            "23/23 [==============================] - 1s 46ms/step\n"
          ]
        }
      ],
      "source": [
        "pred_Y = model.predict(test_set)"
      ]
    },
    {
      "cell_type": "code",
      "source": [
        "print(\"Test Loss:\", test_loss)\n",
        "print(\"Test Accuracy:\", test_accuracy)\n",
        "print(\"Test Precision:\", test_precision)\n",
        "print(\"Test Recall:\", test_recall)\n",
        "\n",
        "print(\"Validation Loss:\", val_loss)\n",
        "print(\"Validation Accuracy:\", val_accuracy)\n",
        "print(\"Validation Precision:\", val_precision)\n",
        "print(\"Validation Recall:\", val_recall)"
      ],
      "metadata": {
        "id": "0q0fTz--L_Z9",
        "outputId": "fc980dc2-a3a6-4a24-c5af-17fb2dc039af",
        "colab": {
          "base_uri": "https://localhost:8080/"
        }
      },
      "execution_count": 28,
      "outputs": [
        {
          "output_type": "stream",
          "name": "stdout",
          "text": [
            "Test Loss: 0.039336882531642914\n",
            "Test Accuracy: 0.9919330477714539\n",
            "Test Precision: 0.9889848232269287\n",
            "Test Recall: 0.9883893728256226\n",
            "Validation Loss: 0.6419097781181335\n",
            "Validation Accuracy: 0.9269663095474243\n",
            "Validation Precision: 0.9220055937767029\n",
            "Validation Recall: 0.9192200303077698\n"
          ]
        }
      ]
    }
  ],
  "metadata": {
    "accelerator": "GPU",
    "colab": {
      "provenance": [],
      "gpuType": "T4"
    },
    "kernelspec": {
      "display_name": "Python 3",
      "name": "python3"
    },
    "language_info": {
      "name": "python"
    }
  },
  "nbformat": 4,
  "nbformat_minor": 0
}