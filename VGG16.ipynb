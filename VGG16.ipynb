{
  "cells": [
    {
      "cell_type": "code",
      "execution_count": null,
      "metadata": {
        "colab": {
          "base_uri": "https://localhost:8080/"
        },
        "id": "GozRAKqVOGrf",
        "outputId": "574bab1d-7635-4148-d45d-1b448283fadb"
      },
      "outputs": [
        {
          "output_type": "stream",
          "name": "stdout",
          "text": [
            "Mounted at /content/drive\n"
          ]
        }
      ],
      "source": [
        "from google.colab import drive\n",
        "drive.mount('/content/drive')"
      ]
    },
    {
      "cell_type": "code",
      "execution_count": null,
      "metadata": {
        "colab": {
          "base_uri": "https://localhost:8080/"
        },
        "id": "jlisLoAeOR9S",
        "outputId": "beea282c-8aed-4e4d-d51a-f7a534f610b3"
      },
      "outputs": [
        {
          "output_type": "stream",
          "name": "stdout",
          "text": [
            "/content/drive/MyDrive\n"
          ]
        }
      ],
      "source": [
        "%cd \"/content/drive/MyDrive\""
      ]
    },
    {
      "cell_type": "code",
      "execution_count": null,
      "metadata": {
        "colab": {
          "base_uri": "https://localhost:8080/"
        },
        "id": "QjcCI1WZOp9W",
        "outputId": "6505a363-6cd8-46ab-a03a-a0b69d674f67"
      },
      "outputs": [
        {
          "output_type": "stream",
          "name": "stdout",
          "text": [
            "'10th Mark sheet.jpg'\n",
            "'12th marksheet.pdf'\n",
            " Aadhar.pdf\n",
            "'Assignment for graymatics.zip'\n",
            " \u001b[0m\u001b[01;34mAssingnment\u001b[0m/\n",
            "\u001b[01;34m'Colab Notebooks'\u001b[0m/\n",
            "\u001b[01;34m'Custom objection lib'\u001b[0m/\n",
            " \u001b[01;34mdarknet\u001b[0m/\n",
            "'Digital_Certificate from RGPV .pdf'\n",
            " emertxe_internship_certificate_Raghav_Sharma.pdf\n",
            "'Enterprise Bot Assignment.zip'\n",
            " \u001b[01;34mFiles\u001b[0m/\n",
            "\u001b[01;34m'Google Photos'\u001b[0m/\n",
            " \u001b[01;34mi2v\u001b[0m/\n",
            "'image captioning.mkv'\n",
            " openinapp.zip\n",
            "'PAN card.jpg'\n",
            "'Raghav java progates.pdf'\n",
            "'Raghav Sharma cloud computing  certificate.pdf'\n",
            "'RAGHAV SHARMA.pdf'\n",
            "'Raghav'\\''s Resume (1).pdf'\n",
            "\"Raghav's Resume.pdf\"\n",
            "'resume photo-min.jpg'\n",
            " Surveillance_car_video.mp4\n",
            " \u001b[01;34mvgg16\u001b[0m/\n"
          ]
        }
      ],
      "source": [
        "%ls"
      ]
    },
    {
      "cell_type": "code",
      "execution_count": null,
      "metadata": {
        "colab": {
          "base_uri": "https://localhost:8080/"
        },
        "id": "t0JCiFkuV4pX",
        "outputId": "91d8b79f-99ad-4b4a-a547-ff73fc71e4dc"
      },
      "outputs": [
        {
          "output_type": "stream",
          "name": "stdout",
          "text": [
            "/content/drive/MyDrive/i2v/vgg16\n"
          ]
        }
      ],
      "source": [
        "%cd i2v/vgg16/"
      ]
    },
    {
      "cell_type": "code",
      "execution_count": null,
      "metadata": {
        "id": "Ba8q-P4dNzgO"
      },
      "outputs": [],
      "source": [
        "from tensorflow.keras.layers import Input, Flatten, Dense\n",
        "from tensorflow.keras.models import Model\n",
        "from tensorflow.keras.applications.vgg16 import VGG16\n",
        "from tensorflow.keras.applications.vgg16 import preprocess_input\n",
        "from tensorflow.keras.preprocessing.image import ImageDataGenerator\n",
        "from tensorflow.keras.callbacks import ModelCheckpoint\n",
        "from tensorflow import keras\n",
        "from matplotlib import pyplot as plt"
      ]
    },
    {
      "cell_type": "code",
      "execution_count": null,
      "metadata": {
        "id": "lCNkwEU1Nzcz"
      },
      "outputs": [],
      "source": [
        "# Set image size\n",
        "IMAGE_SIZE = [180, 180]\n",
        "# Define paths for training and validation data\n",
        "train_path = '/content/drive/MyDrive/vgg16/dataset/train'   # Change with your train path\n",
        "valid_path = '/content/drive/MyDrive/vgg16/dataset/val'     # Change with your validation path"
      ]
    },
    {
      "cell_type": "code",
      "execution_count": null,
      "metadata": {
        "id": "llBHPbcHNzZu"
      },
      "outputs": [],
      "source": [
        "# Load VGG16 model with pre-trained weights\n",
        "vgg16 = VGG16(input_shape=IMAGE_SIZE + [3], weights='imagenet', include_top=False)"
      ]
    },
    {
      "cell_type": "code",
      "execution_count": null,
      "metadata": {
        "id": "76bnu_dqNzWj"
      },
      "outputs": [],
      "source": [
        "# Freeze the layers of VGG16\n",
        "for layer in vgg16.layers:\n",
        "    layer.trainable = False"
      ]
    },
    {
      "cell_type": "code",
      "execution_count": null,
      "metadata": {
        "id": "mxXTxuixNzTT"
      },
      "outputs": [],
      "source": [
        "# Flatten the output of VGG16\n",
        "x = Flatten()(vgg16.output)"
      ]
    },
    {
      "cell_type": "code",
      "execution_count": null,
      "metadata": {
        "id": "wzBbSEYsNzP2"
      },
      "outputs": [],
      "source": [
        "# Add a fully connected layer with softmax activation for 27 classes\n",
        "prediction = Dense(27, activation='softmax')(x)"
      ]
    },
    {
      "cell_type": "code",
      "execution_count": null,
      "metadata": {
        "id": "SKxvoqQ_SvPI"
      },
      "outputs": [],
      "source": [
        "# Create a model object\n",
        "model = Model(inputs=vgg16.input, outputs=prediction)"
      ]
    },
    {
      "cell_type": "code",
      "execution_count": null,
      "metadata": {
        "id": "EbATCPfySvI0",
        "colab": {
          "base_uri": "https://localhost:8080/"
        },
        "outputId": "19cead4e-867b-4a26-a33d-ebd9282129f9"
      },
      "outputs": [
        {
          "output_type": "stream",
          "name": "stdout",
          "text": [
            "Model: \"model_9\"\n",
            "_________________________________________________________________\n",
            " Layer (type)                Output Shape              Param #   \n",
            "=================================================================\n",
            " input_6 (InputLayer)        [(None, 180, 180, 3)]     0         \n",
            "                                                                 \n",
            " block1_conv1 (Conv2D)       (None, 180, 180, 64)      1792      \n",
            "                                                                 \n",
            " block1_conv2 (Conv2D)       (None, 180, 180, 64)      36928     \n",
            "                                                                 \n",
            " block1_pool (MaxPooling2D)  (None, 90, 90, 64)        0         \n",
            "                                                                 \n",
            " block2_conv1 (Conv2D)       (None, 90, 90, 128)       73856     \n",
            "                                                                 \n",
            " block2_conv2 (Conv2D)       (None, 90, 90, 128)       147584    \n",
            "                                                                 \n",
            " block2_pool (MaxPooling2D)  (None, 45, 45, 128)       0         \n",
            "                                                                 \n",
            " block3_conv1 (Conv2D)       (None, 45, 45, 256)       295168    \n",
            "                                                                 \n",
            " block3_conv2 (Conv2D)       (None, 45, 45, 256)       590080    \n",
            "                                                                 \n",
            " block3_conv3 (Conv2D)       (None, 45, 45, 256)       590080    \n",
            "                                                                 \n",
            " block3_pool (MaxPooling2D)  (None, 22, 22, 256)       0         \n",
            "                                                                 \n",
            " block4_conv1 (Conv2D)       (None, 22, 22, 512)       1180160   \n",
            "                                                                 \n",
            " block4_conv2 (Conv2D)       (None, 22, 22, 512)       2359808   \n",
            "                                                                 \n",
            " block4_conv3 (Conv2D)       (None, 22, 22, 512)       2359808   \n",
            "                                                                 \n",
            " block4_pool (MaxPooling2D)  (None, 11, 11, 512)       0         \n",
            "                                                                 \n",
            " block5_conv1 (Conv2D)       (None, 11, 11, 512)       2359808   \n",
            "                                                                 \n",
            " block5_conv2 (Conv2D)       (None, 11, 11, 512)       2359808   \n",
            "                                                                 \n",
            " block5_conv3 (Conv2D)       (None, 11, 11, 512)       2359808   \n",
            "                                                                 \n",
            " block5_pool (MaxPooling2D)  (None, 5, 5, 512)         0         \n",
            "                                                                 \n",
            " flatten_6 (Flatten)         (None, 12800)             0         \n",
            "                                                                 \n",
            " dense_9 (Dense)             (None, 27)                345627    \n",
            "                                                                 \n",
            "=================================================================\n",
            "Total params: 15,060,315\n",
            "Trainable params: 345,627\n",
            "Non-trainable params: 14,714,688\n",
            "_________________________________________________________________\n"
          ]
        }
      ],
      "source": [
        "# View the structure of the model\n",
        "model.summary()"
      ]
    },
    {
      "cell_type": "code",
      "execution_count": null,
      "metadata": {
        "id": "DrHzzhStSu-Z"
      },
      "outputs": [],
      "source": [
        "# Model Compilation\n",
        "model.compile(\n",
        "    loss='categorical_crossentropy',\n",
        "    metrics=[\n",
        "        keras.metrics.Precision(name='precision'),\n",
        "        'accuracy',\n",
        "        keras.metrics.Recall(name='recall'),],optimizer='adam')"
      ]
    },
    {
      "cell_type": "code",
      "execution_count": null,
      "metadata": {
        "id": "egM4tJ_FSu7I"
      },
      "outputs": [],
      "source": [
        "# Preprocessing\n",
        "train_datagen = ImageDataGenerator(\n",
        "    rescale=1./255,\n",
        "    shear_range=0.2,\n",
        "    zoom_range=0.2,\n",
        "    horizontal_flip=True\n",
        ")"
      ]
    },
    {
      "cell_type": "code",
      "execution_count": null,
      "metadata": {
        "id": "cU0ggCRoSu3v"
      },
      "outputs": [],
      "source": [
        "test_datagen = ImageDataGenerator(rescale=1./255)"
      ]
    },
    {
      "cell_type": "code",
      "execution_count": null,
      "metadata": {
        "colab": {
          "base_uri": "https://localhost:8080/"
        },
        "id": "zLuhLWrLSu0s",
        "outputId": "7a062af5-8517-4b7a-b800-b1280f1340be"
      },
      "outputs": [
        {
          "output_type": "stream",
          "name": "stdout",
          "text": [
            "Found 3359 images belonging to 27 classes.\n"
          ]
        }
      ],
      "source": [
        "training_set = train_datagen.flow_from_directory(\n",
        "    train_path,\n",
        "    target_size=(180, 180),\n",
        "    batch_size=16,\n",
        "    class_mode='categorical'\n",
        ")"
      ]
    },
    {
      "cell_type": "code",
      "execution_count": null,
      "metadata": {
        "colab": {
          "base_uri": "https://localhost:8080/"
        },
        "id": "HV5qt_CnU4g3",
        "outputId": "335f1b90-994c-446b-882c-a961ad4f2114"
      },
      "outputs": [
        {
          "output_type": "stream",
          "name": "stdout",
          "text": [
            "Found 359 images belonging to 27 classes.\n"
          ]
        }
      ],
      "source": [
        "test_set = test_datagen.flow_from_directory(\n",
        "    valid_path,\n",
        "    target_size=(180, 180),\n",
        "    batch_size=16,\n",
        "    class_mode='categorical'\n",
        ")"
      ]
    },
    {
      "cell_type": "code",
      "source": [
        "class_names = ['Audi','BMW','Chevrolet','Datsun','Fiat','Ford','Honda','Hyundai','ISUZU','Jaguar','Jaguar.rear','Jeep','Kia','Kia.new','Mahindra','Maruti-Suzuki','Mercedes-Benz','MG-Motor','Mitsubishi','Nissan','Renault','Skoda','Tata','Tata.text','Toyota','Volkswagen','Volvo']\n",
        "print(class_names)"
      ],
      "metadata": {
        "colab": {
          "base_uri": "https://localhost:8080/"
        },
        "id": "09ge2PXFOdd6",
        "outputId": "0729c30f-847d-4a5a-fd81-f977e46a48b8"
      },
      "execution_count": null,
      "outputs": [
        {
          "output_type": "stream",
          "name": "stdout",
          "text": [
            "['Audi', 'BMW', 'Chevrolet', 'Datsun', 'Fiat', 'Ford', 'Honda', 'Hyundai', 'ISUZU', 'Jaguar', 'Jaguar.rear', 'Jeep', 'Kia', 'Kia.new', 'Mahindra', 'Maruti-Suzuki', 'Mercedes-Benz', 'MG-Motor', 'Mitsubishi', 'Nissan', 'Renault', 'Skoda', 'Tata', 'Tata.text', 'Toyota', 'Volkswagen', 'Volvo']\n"
          ]
        }
      ]
    },
    {
      "cell_type": "code",
      "execution_count": null,
      "metadata": {
        "id": "dBLKwlfTjp0p"
      },
      "outputs": [],
      "source": [
        "# Define the paths for saving the best and last models\n",
        "best_model_path = ''\n",
        "last_model_path = ''\n",
        "\n",
        "# Define the callbacks\n",
        "callbacks = [\n",
        "    ModelCheckpoint(best_model_path, monitor='val_loss', save_best_only=True),\n",
        "    ModelCheckpoint(last_model_path, save_weights_only=False, save_freq='epoch')\n",
        "]"
      ]
    },
    {
      "cell_type": "code",
      "execution_count": null,
      "metadata": {
        "colab": {
          "base_uri": "https://localhost:8080/"
        },
        "id": "QWSvBBjDU5gm",
        "outputId": "011d2599-c2e4-49dc-86fa-e99ab50924a0"
      },
      "outputs": [
        {
          "output_type": "stream",
          "name": "stdout",
          "text": [
            "Epoch 1/10\n",
            "210/210 [==============================] - ETA: 0s - loss: 0.9763 - precision: 0.9611 - accuracy: 0.7374 - recall: 0.6103"
          ]
        },
        {
          "output_type": "stream",
          "name": "stderr",
          "text": [
            "WARNING:absl:Found untraced functions such as _jit_compiled_convolution_op, _jit_compiled_convolution_op, _jit_compiled_convolution_op, _jit_compiled_convolution_op, _jit_compiled_convolution_op while saving (showing 5 of 13). These functions will not be directly callable after loading.\n",
            "WARNING:absl:Found untraced functions such as _jit_compiled_convolution_op, _jit_compiled_convolution_op, _jit_compiled_convolution_op, _jit_compiled_convolution_op, _jit_compiled_convolution_op while saving (showing 5 of 13). These functions will not be directly callable after loading.\n"
          ]
        },
        {
          "output_type": "stream",
          "name": "stdout",
          "text": [
            "\b\b\b\b\b\b\b\b\b\b\b\b\b\b\b\b\b\b\b\b\b\b\b\b\b\b\b\b\b\b\b\b\b\b\b\b\b\b\b\b\b\b\b\b\b\b\b\b\b\b\b\b\b\b\b\b\b\b\b\b\b\b\b\b\b\b\b\b\b\b\b\b\b\b\b\b\b\b\b\b\b\b\b\b\b\b\b\b\b\b\b\b\b\b\b\b\b\b\b\b\b\b\b\b\b\b\b\b\b\b\b\b\b\b\b\b\b\b\b\b\b\r210/210 [==============================] - 42s 192ms/step - loss: 0.9763 - precision: 0.9611 - accuracy: 0.7374 - recall: 0.6103 - val_loss: 0.5830 - val_precision: 0.9458 - val_accuracy: 0.8384 - val_recall: 0.7772\n",
            "Epoch 2/10\n",
            "210/210 [==============================] - ETA: 0s - loss: 0.3438 - precision: 0.9794 - accuracy: 0.9125 - recall: 0.8506"
          ]
        },
        {
          "output_type": "stream",
          "name": "stderr",
          "text": [
            "WARNING:absl:Found untraced functions such as _jit_compiled_convolution_op, _jit_compiled_convolution_op, _jit_compiled_convolution_op, _jit_compiled_convolution_op, _jit_compiled_convolution_op while saving (showing 5 of 13). These functions will not be directly callable after loading.\n",
            "WARNING:absl:Found untraced functions such as _jit_compiled_convolution_op, _jit_compiled_convolution_op, _jit_compiled_convolution_op, _jit_compiled_convolution_op, _jit_compiled_convolution_op while saving (showing 5 of 13). These functions will not be directly callable after loading.\n"
          ]
        },
        {
          "output_type": "stream",
          "name": "stdout",
          "text": [
            "\b\b\b\b\b\b\b\b\b\b\b\b\b\b\b\b\b\b\b\b\b\b\b\b\b\b\b\b\b\b\b\b\b\b\b\b\b\b\b\b\b\b\b\b\b\b\b\b\b\b\b\b\b\b\b\b\b\b\b\b\b\b\b\b\b\b\b\b\b\b\b\b\b\b\b\b\b\b\b\b\b\b\b\b\b\b\b\b\b\b\b\b\b\b\b\b\b\b\b\b\b\b\b\b\b\b\b\b\b\b\b\b\b\b\b\b\b\b\b\b\b\r210/210 [==============================] - 39s 186ms/step - loss: 0.3438 - precision: 0.9794 - accuracy: 0.9125 - recall: 0.8506 - val_loss: 0.5558 - val_precision: 0.9393 - val_accuracy: 0.8496 - val_recall: 0.8189\n",
            "Epoch 3/10\n",
            "210/210 [==============================] - ETA: 0s - loss: 0.2347 - precision: 0.9777 - accuracy: 0.9339 - recall: 0.9003"
          ]
        },
        {
          "output_type": "stream",
          "name": "stderr",
          "text": [
            "WARNING:absl:Found untraced functions such as _jit_compiled_convolution_op, _jit_compiled_convolution_op, _jit_compiled_convolution_op, _jit_compiled_convolution_op, _jit_compiled_convolution_op while saving (showing 5 of 13). These functions will not be directly callable after loading.\n",
            "WARNING:absl:Found untraced functions such as _jit_compiled_convolution_op, _jit_compiled_convolution_op, _jit_compiled_convolution_op, _jit_compiled_convolution_op, _jit_compiled_convolution_op while saving (showing 5 of 13). These functions will not be directly callable after loading.\n"
          ]
        },
        {
          "output_type": "stream",
          "name": "stdout",
          "text": [
            "\b\b\b\b\b\b\b\b\b\b\b\b\b\b\b\b\b\b\b\b\b\b\b\b\b\b\b\b\b\b\b\b\b\b\b\b\b\b\b\b\b\b\b\b\b\b\b\b\b\b\b\b\b\b\b\b\b\b\b\b\b\b\b\b\b\b\b\b\b\b\b\b\b\b\b\b\b\b\b\b\b\b\b\b\b\b\b\b\b\b\b\b\b\b\b\b\b\b\b\b\b\b\b\b\b\b\b\b\b\b\b\b\b\b\b\b\b\b\b\b\b\r210/210 [==============================] - 40s 190ms/step - loss: 0.2347 - precision: 0.9777 - accuracy: 0.9339 - recall: 0.9003 - val_loss: 0.3994 - val_precision: 0.9268 - val_accuracy: 0.8886 - val_recall: 0.8468\n",
            "Epoch 4/10\n",
            "210/210 [==============================] - ETA: 0s - loss: 0.2005 - precision: 0.9821 - accuracy: 0.9479 - recall: 0.9155"
          ]
        },
        {
          "output_type": "stream",
          "name": "stderr",
          "text": [
            "WARNING:absl:Found untraced functions such as _jit_compiled_convolution_op, _jit_compiled_convolution_op, _jit_compiled_convolution_op, _jit_compiled_convolution_op, _jit_compiled_convolution_op while saving (showing 5 of 13). These functions will not be directly callable after loading.\n"
          ]
        },
        {
          "output_type": "stream",
          "name": "stdout",
          "text": [
            "\b\b\b\b\b\b\b\b\b\b\b\b\b\b\b\b\b\b\b\b\b\b\b\b\b\b\b\b\b\b\b\b\b\b\b\b\b\b\b\b\b\b\b\b\b\b\b\b\b\b\b\b\b\b\b\b\b\b\b\b\b\b\b\b\b\b\b\b\b\b\b\b\b\b\b\b\b\b\b\b\b\b\b\b\b\b\b\b\b\b\b\b\b\b\b\b\b\b\b\b\b\b\b\b\b\b\b\b\b\b\b\b\b\b\b\b\b\b\b\b\b\r210/210 [==============================] - 38s 182ms/step - loss: 0.2005 - precision: 0.9821 - accuracy: 0.9479 - recall: 0.9155 - val_loss: 0.4126 - val_precision: 0.9325 - val_accuracy: 0.8969 - val_recall: 0.8468\n",
            "Epoch 5/10\n",
            "210/210 [==============================] - ETA: 0s - loss: 0.1569 - precision: 0.9824 - accuracy: 0.9556 - recall: 0.9318"
          ]
        },
        {
          "output_type": "stream",
          "name": "stderr",
          "text": [
            "WARNING:absl:Found untraced functions such as _jit_compiled_convolution_op, _jit_compiled_convolution_op, _jit_compiled_convolution_op, _jit_compiled_convolution_op, _jit_compiled_convolution_op while saving (showing 5 of 13). These functions will not be directly callable after loading.\n"
          ]
        },
        {
          "output_type": "stream",
          "name": "stdout",
          "text": [
            "\b\b\b\b\b\b\b\b\b\b\b\b\b\b\b\b\b\b\b\b\b\b\b\b\b\b\b\b\b\b\b\b\b\b\b\b\b\b\b\b\b\b\b\b\b\b\b\b\b\b\b\b\b\b\b\b\b\b\b\b\b\b\b\b\b\b\b\b\b\b\b\b\b\b\b\b\b\b\b\b\b\b\b\b\b\b\b\b\b\b\b\b\b\b\b\b\b\b\b\b\b\b\b\b\b\b\b\b\b\b\b\b\b\b\b\b\b\b\b\b\b\r210/210 [==============================] - 39s 184ms/step - loss: 0.1569 - precision: 0.9824 - accuracy: 0.9556 - recall: 0.9318 - val_loss: 0.4445 - val_precision: 0.9275 - val_accuracy: 0.8802 - val_recall: 0.8552\n",
            "Epoch 6/10\n",
            "210/210 [==============================] - ETA: 0s - loss: 0.1210 - precision: 0.9861 - accuracy: 0.9687 - recall: 0.9491"
          ]
        },
        {
          "output_type": "stream",
          "name": "stderr",
          "text": [
            "WARNING:absl:Found untraced functions such as _jit_compiled_convolution_op, _jit_compiled_convolution_op, _jit_compiled_convolution_op, _jit_compiled_convolution_op, _jit_compiled_convolution_op while saving (showing 5 of 13). These functions will not be directly callable after loading.\n",
            "WARNING:absl:Found untraced functions such as _jit_compiled_convolution_op, _jit_compiled_convolution_op, _jit_compiled_convolution_op, _jit_compiled_convolution_op, _jit_compiled_convolution_op while saving (showing 5 of 13). These functions will not be directly callable after loading.\n"
          ]
        },
        {
          "output_type": "stream",
          "name": "stdout",
          "text": [
            "\b\b\b\b\b\b\b\b\b\b\b\b\b\b\b\b\b\b\b\b\b\b\b\b\b\b\b\b\b\b\b\b\b\b\b\b\b\b\b\b\b\b\b\b\b\b\b\b\b\b\b\b\b\b\b\b\b\b\b\b\b\b\b\b\b\b\b\b\b\b\b\b\b\b\b\b\b\b\b\b\b\b\b\b\b\b\b\b\b\b\b\b\b\b\b\b\b\b\b\b\b\b\b\b\b\b\b\b\b\b\b\b\b\b\b\b\b\b\b\b\b\r210/210 [==============================] - 42s 200ms/step - loss: 0.1210 - precision: 0.9861 - accuracy: 0.9687 - recall: 0.9491 - val_loss: 0.3726 - val_precision: 0.9431 - val_accuracy: 0.9081 - val_recall: 0.8774\n",
            "Epoch 7/10\n",
            "210/210 [==============================] - ETA: 0s - loss: 0.1147 - precision: 0.9880 - accuracy: 0.9699 - recall: 0.9553"
          ]
        },
        {
          "output_type": "stream",
          "name": "stderr",
          "text": [
            "WARNING:absl:Found untraced functions such as _jit_compiled_convolution_op, _jit_compiled_convolution_op, _jit_compiled_convolution_op, _jit_compiled_convolution_op, _jit_compiled_convolution_op while saving (showing 5 of 13). These functions will not be directly callable after loading.\n",
            "WARNING:absl:Found untraced functions such as _jit_compiled_convolution_op, _jit_compiled_convolution_op, _jit_compiled_convolution_op, _jit_compiled_convolution_op, _jit_compiled_convolution_op while saving (showing 5 of 13). These functions will not be directly callable after loading.\n"
          ]
        },
        {
          "output_type": "stream",
          "name": "stdout",
          "text": [
            "\b\b\b\b\b\b\b\b\b\b\b\b\b\b\b\b\b\b\b\b\b\b\b\b\b\b\b\b\b\b\b\b\b\b\b\b\b\b\b\b\b\b\b\b\b\b\b\b\b\b\b\b\b\b\b\b\b\b\b\b\b\b\b\b\b\b\b\b\b\b\b\b\b\b\b\b\b\b\b\b\b\b\b\b\b\b\b\b\b\b\b\b\b\b\b\b\b\b\b\b\b\b\b\b\b\b\b\b\b\b\b\b\b\b\b\b\b\b\b\b\b\r210/210 [==============================] - 40s 192ms/step - loss: 0.1147 - precision: 0.9880 - accuracy: 0.9699 - recall: 0.9553 - val_loss: 0.3062 - val_precision: 0.9467 - val_accuracy: 0.9220 - val_recall: 0.8914\n",
            "Epoch 8/10\n",
            "210/210 [==============================] - ETA: 0s - loss: 0.0831 - precision: 0.9878 - accuracy: 0.9777 - recall: 0.9646"
          ]
        },
        {
          "output_type": "stream",
          "name": "stderr",
          "text": [
            "WARNING:absl:Found untraced functions such as _jit_compiled_convolution_op, _jit_compiled_convolution_op, _jit_compiled_convolution_op, _jit_compiled_convolution_op, _jit_compiled_convolution_op while saving (showing 5 of 13). These functions will not be directly callable after loading.\n"
          ]
        },
        {
          "output_type": "stream",
          "name": "stdout",
          "text": [
            "\b\b\b\b\b\b\b\b\b\b\b\b\b\b\b\b\b\b\b\b\b\b\b\b\b\b\b\b\b\b\b\b\b\b\b\b\b\b\b\b\b\b\b\b\b\b\b\b\b\b\b\b\b\b\b\b\b\b\b\b\b\b\b\b\b\b\b\b\b\b\b\b\b\b\b\b\b\b\b\b\b\b\b\b\b\b\b\b\b\b\b\b\b\b\b\b\b\b\b\b\b\b\b\b\b\b\b\b\b\b\b\b\b\b\b\b\b\b\b\b\b\r210/210 [==============================] - 36s 172ms/step - loss: 0.0831 - precision: 0.9878 - accuracy: 0.9777 - recall: 0.9646 - val_loss: 0.3427 - val_precision: 0.9384 - val_accuracy: 0.9081 - val_recall: 0.8914\n",
            "Epoch 9/10\n",
            "210/210 [==============================] - ETA: 0s - loss: 0.0821 - precision: 0.9888 - accuracy: 0.9783 - recall: 0.9702"
          ]
        },
        {
          "output_type": "stream",
          "name": "stderr",
          "text": [
            "WARNING:absl:Found untraced functions such as _jit_compiled_convolution_op, _jit_compiled_convolution_op, _jit_compiled_convolution_op, _jit_compiled_convolution_op, _jit_compiled_convolution_op while saving (showing 5 of 13). These functions will not be directly callable after loading.\n"
          ]
        },
        {
          "output_type": "stream",
          "name": "stdout",
          "text": [
            "\b\b\b\b\b\b\b\b\b\b\b\b\b\b\b\b\b\b\b\b\b\b\b\b\b\b\b\b\b\b\b\b\b\b\b\b\b\b\b\b\b\b\b\b\b\b\b\b\b\b\b\b\b\b\b\b\b\b\b\b\b\b\b\b\b\b\b\b\b\b\b\b\b\b\b\b\b\b\b\b\b\b\b\b\b\b\b\b\b\b\b\b\b\b\b\b\b\b\b\b\b\b\b\b\b\b\b\b\b\b\b\b\b\b\b\b\b\b\b\b\b\r210/210 [==============================] - 38s 181ms/step - loss: 0.0821 - precision: 0.9888 - accuracy: 0.9783 - recall: 0.9702 - val_loss: 0.3963 - val_precision: 0.9443 - val_accuracy: 0.9081 - val_recall: 0.8969\n",
            "Epoch 10/10\n",
            "210/210 [==============================] - ETA: 0s - loss: 0.0691 - precision: 0.9882 - accuracy: 0.9821 - recall: 0.9726"
          ]
        },
        {
          "output_type": "stream",
          "name": "stderr",
          "text": [
            "WARNING:absl:Found untraced functions such as _jit_compiled_convolution_op, _jit_compiled_convolution_op, _jit_compiled_convolution_op, _jit_compiled_convolution_op, _jit_compiled_convolution_op while saving (showing 5 of 13). These functions will not be directly callable after loading.\n"
          ]
        },
        {
          "output_type": "stream",
          "name": "stdout",
          "text": [
            "\b\b\b\b\b\b\b\b\b\b\b\b\b\b\b\b\b\b\b\b\b\b\b\b\b\b\b\b\b\b\b\b\b\b\b\b\b\b\b\b\b\b\b\b\b\b\b\b\b\b\b\b\b\b\b\b\b\b\b\b\b\b\b\b\b\b\b\b\b\b\b\b\b\b\b\b\b\b\b\b\b\b\b\b\b\b\b\b\b\b\b\b\b\b\b\b\b\b\b\b\b\b\b\b\b\b\b\b\b\b\b\b\b\b\b\b\b\b\b\b\b\r210/210 [==============================] - 37s 176ms/step - loss: 0.0691 - precision: 0.9882 - accuracy: 0.9821 - recall: 0.9726 - val_loss: 0.3487 - val_precision: 0.9474 - val_accuracy: 0.9192 - val_recall: 0.9025\n"
          ]
        }
      ],
      "source": [
        "# Train the model\n",
        "r = model.fit(\n",
        "    training_set,\n",
        "    validation_data=test_set,\n",
        "    epochs=10,\n",
        "    steps_per_epoch=len(training_set),\n",
        "    validation_steps=len(test_set),\n",
        "    callbacks=callbacks\n",
        ")"
      ]
    },
    {
      "cell_type": "code",
      "execution_count": null,
      "metadata": {
        "id": "u0mHdtxJU5dI",
        "colab": {
          "base_uri": "https://localhost:8080/",
          "height": 1000
        },
        "outputId": "f98463f7-3745-4fa7-8948-f344ba94672b"
      },
      "outputs": [
        {
          "output_type": "display_data",
          "data": {
            "text/plain": [
              "<Figure size 640x480 with 1 Axes>"
            ],
            "image/png": "[encoded data removed]"
          },
          "metadata": {}
        },
        {
          "output_type": "stream",
          "name": "stdout",
          "text": [
            "\n"
          ]
        },
        {
          "output_type": "display_data",
          "data": {
            "text/plain": [
              "<Figure size 640x480 with 1 Axes>"
            ],
            "image/png": "[encoded data removed]"
          },
          "metadata": {}
        },
        {
          "output_type": "stream",
          "name": "stdout",
          "text": [
            "\n"
          ]
        },
        {
          "output_type": "display_data",
          "data": {
            "text/plain": [
              "<Figure size 640x480 with 1 Axes>"
            ],
            "image/png": "[encoded data removed]"
          },
          "metadata": {}
        },
        {
          "output_type": "display_data",
          "data": {
            "text/plain": [
              "<Figure size 640x480 with 0 Axes>"
            ]
          },
          "metadata": {}
        }
      ],
      "source": [
        "#Visualizing loss of test and train\n",
        "plt.plot(r.history['loss'], label='train loss')\n",
        "plt.plot(r.history['val_loss'], label='val loss')\n",
        "plt.legend()\n",
        "plt.show()\n",
        "plt.savefig('LossVal_loss')\n",
        "print()\n",
        "# plot the accuracy\n",
        "plt.plot(r.history['accuracy'], label='train acc')\n",
        "plt.plot(r.history['val_accuracy'], label='val acc')\n",
        "plt.legend()\n",
        "plt.show()\n",
        "plt.savefig('AccVal_acc')\n",
        "print()\n",
        "plt.plot(r.history['precision'], label='Precision')\n",
        "plt.plot(r.history['recall'], label='Recall')\n",
        "plt.legend()\n",
        "plt.show()\n",
        "plt.savefig('prec_rec')\n"
      ]
    },
    {
      "cell_type": "code",
      "execution_count": null,
      "metadata": {
        "id": "2z0b9TNRU4Qh"
      },
      "outputs": [],
      "source": [
        "#saving model\n",
        "from tensorflow.keras.models import load_model\n",
        "model_path = '/content/drive/MyDrive/i2v/vgg16/vgg16_model.h5'\n",
        "# Save the model\n",
        "model.save(model_path)"
      ]
    },
    {
      "cell_type": "code",
      "execution_count": null,
      "metadata": {
        "id": "QbvHfLpiYmQp",
        "colab": {
          "base_uri": "https://localhost:8080/"
        },
        "outputId": "24920491-0f18-4477-85b9-023677c23407"
      },
      "outputs": [
        {
          "output_type": "stream",
          "name": "stdout",
          "text": [
            "210/210 [==============================] - 34s 160ms/step - loss: 0.0664 - precision: 0.9930 - accuracy: 0.9839 - recall: 0.9726\n"
          ]
        }
      ],
      "source": [
        "#evaluating model with respect to train\n",
        "test_loss, test_accuracy, test_precision, test_recall = model.evaluate(training_set)"
      ]
    },
    {
      "cell_type": "code",
      "execution_count": null,
      "metadata": {
        "id": "kMVBX0KaYmNZ",
        "colab": {
          "base_uri": "https://localhost:8080/"
        },
        "outputId": "41bcab25-60dc-4148-c87a-cb00efb147f1"
      },
      "outputs": [
        {
          "output_type": "stream",
          "name": "stdout",
          "text": [
            "23/23 [==============================] - 1s 51ms/step - loss: 0.3487 - precision: 0.9474 - accuracy: 0.9192 - recall: 0.9025\n"
          ]
        }
      ],
      "source": [
        "#evaluating model with respect to test\n",
        "val_loss, val_accuracy, val_precision, val_recall = model.evaluate(test_set)"
      ]
    },
    {
      "cell_type": "code",
      "execution_count": null,
      "metadata": {
        "id": "Zr5G3huuYmJV",
        "colab": {
          "base_uri": "https://localhost:8080/"
        },
        "outputId": "1e34f21f-7642-419e-ee49-65e5353edb25"
      },
      "outputs": [
        {
          "output_type": "stream",
          "name": "stdout",
          "text": [
            "210/210 [==============================] - 33s 157ms/step\n"
          ]
        }
      ],
      "source": [
        "pred_X = model.predict(training_set)"
      ]
    },
    {
      "cell_type": "code",
      "execution_count": null,
      "metadata": {
        "id": "sa1zPjZRYmGL",
        "colab": {
          "base_uri": "https://localhost:8080/"
        },
        "outputId": "f4122887-1a4b-4496-eb57-5533ef3e83f1"
      },
      "outputs": [
        {
          "output_type": "stream",
          "name": "stdout",
          "text": [
            "23/23 [==============================] - 1s 59ms/step\n"
          ]
        }
      ],
      "source": [
        "pred_Y = model.predict(test_set)"
      ]
    },
    {
      "cell_type": "code",
      "source": [
        "print(\"Test Loss:\", test_loss)\n",
        "print(\"Test Accuracy:\", test_accuracy)\n",
        "print(\"Test Precision:\", test_precision)\n",
        "print(\"Test Recall:\", test_recall)\n",
        "\n",
        "print(\"Validation Loss:\", val_loss)\n",
        "print(\"Validation Accuracy:\", val_accuracy)\n",
        "print(\"Validation Precision:\", val_precision)\n",
        "print(\"Validation Recall:\", val_recall)"
      ],
      "metadata": {
        "colab": {
          "base_uri": "https://localhost:8080/"
        },
        "id": "HWbGfv5lJ_EG",
        "outputId": "d11b187f-a447-4dc8-b5e3-a1d86f182f0b"
      },
      "execution_count": null,
      "outputs": [
        {
          "output_type": "stream",
          "name": "stdout",
          "text": [
            "Test Loss: 0.06640008836984634\n",
            "Test Accuracy: 0.993009090423584\n",
            "Test Precision: 0.9839237928390503\n",
            "Test Recall: 0.9726108908653259\n",
            "Validation Loss: 0.3486999571323395\n",
            "Validation Accuracy: 0.9473684430122375\n",
            "Validation Precision: 0.9192200303077698\n",
            "Validation Recall: 0.902506947517395\n"
          ]
        }
      ]
    },
    {
      "cell_type": "code",
      "source": [
        "import tensorflow as tf\n",
        "import numpy as np\n",
        "from tensorflow.keras.preprocessing import image\n",
        "\n",
        "# Load your own weights\n",
        "weights_path = '/content/drive/MyDrive/vgg16/vgg16_model.h5'\n",
        "model.load_weights(weights_path)\n",
        "\n",
        "# Define the path to your image\n",
        "image_path = '/content/drive/MyDrive/vgg16/dataset/train/Chevrolet.common/Chevrolet_002.jpg'\n",
        "\n",
        "img = image.load_img(image_path, target_size=(180, 180))\n",
        "img_array = image.img_to_array(img)\n",
        "img_array = np.expand_dims(img_array, axis=0)  # Create a batch\n",
        "\n",
        "predictions = model.predict(img_array)\n",
        "score = tf.nn.softmax(predictions[0])\n",
        "\n",
        "class_index = np.argmax(score)\n",
        "class_name = class_names[class_index]\n",
        "accuracy = score[class_index] * 1000\n",
        "\n",
        "plt.imshow(img)\n",
        "plt.title(f\"Predicted Class: {class_name}\\nAccuracy: {accuracy:.2f}%\")\n",
        "plt.axis(\"off\")\n",
        "plt.show()\n"
      ],
      "metadata": {
        "colab": {
          "base_uri": "https://localhost:8080/",
          "height": 466
        },
        "id": "vi_4dQr3T6FQ",
        "outputId": "2e0f1a14-2290-4c25-ff03-3efb53068808"
      },
      "execution_count": null,
      "outputs": [
        {
          "output_type": "stream",
          "name": "stdout",
          "text": [
            "1/1 [==============================] - 0s 21ms/step\n"
          ]
        },
        {
          "output_type": "display_data",
          "data": {
            "text/plain": [
              "<Figure size 640x480 with 1 Axes>"
            ],
            "image/png": "[encoded data removed]"
          },
          "metadata": {}
        }
      ]
    }
  ],
  "metadata": {
    "accelerator": "GPU",
    "colab": {
      "provenance": [],
      "gpuType": "T4"
    },
    "kernelspec": {
      "display_name": "Python 3",
      "name": "python3"
    },
    "language_info": {
      "name": "python"
    }
  },
  "nbformat": 4,
  "nbformat_minor": 0
}